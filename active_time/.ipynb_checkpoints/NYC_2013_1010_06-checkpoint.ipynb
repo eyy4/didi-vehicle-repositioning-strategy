{
 "cells": [
  {
   "cell_type": "markdown",
   "metadata": {},
   "source": [
    "# Load package"
   ]
  },
  {
   "cell_type": "code",
   "execution_count": 2,
   "metadata": {},
   "outputs": [],
   "source": [
    "import pandas as pd\n",
    "import numpy as np\n",
    "import datetime\n",
    "import matplotlib.pyplot as plt\n",
    "%matplotlib inline "
   ]
  },
  {
   "cell_type": "markdown",
   "metadata": {},
   "source": [
    "# Load data"
   ]
  },
  {
   "cell_type": "code",
   "execution_count": 3,
   "metadata": {},
   "outputs": [
    {
     "data": {
      "text/html": [
       "<div>\n",
       "<style scoped>\n",
       "    .dataframe tbody tr th:only-of-type {\n",
       "        vertical-align: middle;\n",
       "    }\n",
       "\n",
       "    .dataframe tbody tr th {\n",
       "        vertical-align: top;\n",
       "    }\n",
       "\n",
       "    .dataframe thead th {\n",
       "        text-align: right;\n",
       "    }\n",
       "</style>\n",
       "<table border=\"1\" class=\"dataframe\">\n",
       "  <thead>\n",
       "    <tr style=\"text-align: right;\">\n",
       "      <th></th>\n",
       "      <th>medallion</th>\n",
       "      <th>hack_license</th>\n",
       "      <th>vendor_id</th>\n",
       "      <th>rate_code</th>\n",
       "      <th>store_and_fwd_flag</th>\n",
       "      <th>pickup_datetime</th>\n",
       "      <th>dropoff_datetime</th>\n",
       "      <th>passenger_count</th>\n",
       "      <th>trip_time_in_secs</th>\n",
       "      <th>trip_distance</th>\n",
       "      <th>pickup_longitude</th>\n",
       "      <th>pickup_latitude</th>\n",
       "      <th>dropoff_longitude</th>\n",
       "      <th>dropoff_latitude</th>\n",
       "    </tr>\n",
       "  </thead>\n",
       "  <tbody>\n",
       "    <tr>\n",
       "      <th>0</th>\n",
       "      <td>2013009441</td>\n",
       "      <td>2013013593</td>\n",
       "      <td>VTS</td>\n",
       "      <td>1</td>\n",
       "      <td>NaN</td>\n",
       "      <td>2013-06-01 00:00:00</td>\n",
       "      <td>2013-06-01 00:05:00</td>\n",
       "      <td>1</td>\n",
       "      <td>300</td>\n",
       "      <td>0.74</td>\n",
       "      <td>-73.972008</td>\n",
       "      <td>40.749767</td>\n",
       "      <td>-73.968109</td>\n",
       "      <td>40.756382</td>\n",
       "    </tr>\n",
       "    <tr>\n",
       "      <th>1</th>\n",
       "      <td>2013012081</td>\n",
       "      <td>2013019632</td>\n",
       "      <td>VTS</td>\n",
       "      <td>1</td>\n",
       "      <td>NaN</td>\n",
       "      <td>2013-06-01 00:00:00</td>\n",
       "      <td>2013-06-01 00:16:00</td>\n",
       "      <td>1</td>\n",
       "      <td>960</td>\n",
       "      <td>3.52</td>\n",
       "      <td>-73.984909</td>\n",
       "      <td>40.779106</td>\n",
       "      <td>-73.944702</td>\n",
       "      <td>40.803219</td>\n",
       "    </tr>\n",
       "    <tr>\n",
       "      <th>2</th>\n",
       "      <td>2013006133</td>\n",
       "      <td>2013029678</td>\n",
       "      <td>VTS</td>\n",
       "      <td>1</td>\n",
       "      <td>NaN</td>\n",
       "      <td>2013-06-01 00:00:00</td>\n",
       "      <td>2013-06-01 00:10:00</td>\n",
       "      <td>1</td>\n",
       "      <td>600</td>\n",
       "      <td>2.34</td>\n",
       "      <td>-73.992043</td>\n",
       "      <td>40.725639</td>\n",
       "      <td>-73.990120</td>\n",
       "      <td>40.750992</td>\n",
       "    </tr>\n",
       "    <tr>\n",
       "      <th>3</th>\n",
       "      <td>2013007864</td>\n",
       "      <td>2013007860</td>\n",
       "      <td>VTS</td>\n",
       "      <td>1</td>\n",
       "      <td>NaN</td>\n",
       "      <td>2013-06-01 00:00:00</td>\n",
       "      <td>2013-06-01 00:08:00</td>\n",
       "      <td>1</td>\n",
       "      <td>480</td>\n",
       "      <td>1.63</td>\n",
       "      <td>-73.982071</td>\n",
       "      <td>40.743259</td>\n",
       "      <td>-73.990967</td>\n",
       "      <td>40.723995</td>\n",
       "    </tr>\n",
       "    <tr>\n",
       "      <th>4</th>\n",
       "      <td>2013010123</td>\n",
       "      <td>2013010123</td>\n",
       "      <td>VTS</td>\n",
       "      <td>1</td>\n",
       "      <td>NaN</td>\n",
       "      <td>2013-06-01 00:00:00</td>\n",
       "      <td>2013-06-01 00:19:00</td>\n",
       "      <td>4</td>\n",
       "      <td>1140</td>\n",
       "      <td>5.98</td>\n",
       "      <td>-73.999809</td>\n",
       "      <td>40.732849</td>\n",
       "      <td>-73.962357</td>\n",
       "      <td>40.800049</td>\n",
       "    </tr>\n",
       "  </tbody>\n",
       "</table>\n",
       "</div>"
      ],
      "text/plain": [
       "    medallion   hack_license  vendor_id   rate_code  store_and_fwd_flag  \\\n",
       "0  2013009441     2013013593        VTS           1                 NaN   \n",
       "1  2013012081     2013019632        VTS           1                 NaN   \n",
       "2  2013006133     2013029678        VTS           1                 NaN   \n",
       "3  2013007864     2013007860        VTS           1                 NaN   \n",
       "4  2013010123     2013010123        VTS           1                 NaN   \n",
       "\n",
       "       pickup_datetime     dropoff_datetime   passenger_count  \\\n",
       "0  2013-06-01 00:00:00  2013-06-01 00:05:00                 1   \n",
       "1  2013-06-01 00:00:00  2013-06-01 00:16:00                 1   \n",
       "2  2013-06-01 00:00:00  2013-06-01 00:10:00                 1   \n",
       "3  2013-06-01 00:00:00  2013-06-01 00:08:00                 1   \n",
       "4  2013-06-01 00:00:00  2013-06-01 00:19:00                 4   \n",
       "\n",
       "    trip_time_in_secs   trip_distance   pickup_longitude   pickup_latitude  \\\n",
       "0                 300            0.74         -73.972008         40.749767   \n",
       "1                 960            3.52         -73.984909         40.779106   \n",
       "2                 600            2.34         -73.992043         40.725639   \n",
       "3                 480            1.63         -73.982071         40.743259   \n",
       "4                1140            5.98         -73.999809         40.732849   \n",
       "\n",
       "    dropoff_longitude   dropoff_latitude  \n",
       "0          -73.968109          40.756382  \n",
       "1          -73.944702          40.803219  \n",
       "2          -73.990120          40.750992  \n",
       "3          -73.990967          40.723995  \n",
       "4          -73.962357          40.800049  "
      ]
     },
     "execution_count": 3,
     "metadata": {},
     "output_type": "execute_result"
    }
   ],
   "source": [
    "path = '../data/'\n",
    "trip_2013 = pd.read_csv(path + 'FOIL2013/trip_data_6.csv')\n",
    "trip_2013.head()"
   ]
  },
  {
   "cell_type": "code",
   "execution_count": 4,
   "metadata": {},
   "outputs": [],
   "source": [
    "def clean_time(data):\n",
    "    '''\n",
    "    Convert pick-up and drop-off datetime from string to datetime\n",
    "    '''\n",
    "    data.loc[:,'pickup_datetime'] = pd.to_datetime(data['pickup_datetime'])\n",
    "    data.loc[:,'dropoff_datetime'] = pd.to_datetime(data['dropoff_datetime'])\n",
    "    return data "
   ]
  },
  {
   "cell_type": "code",
   "execution_count": 5,
   "metadata": {},
   "outputs": [],
   "source": [
    "# Remove spaces in column names, and covert to lower cases\n",
    "trip_2013.columns = trip_2013.columns.str.replace(' ','').str.lower()\n",
    "trip_2013 = trip_2013.loc[:,['hack_license','pickup_datetime','dropoff_datetime']]\n",
    "trip_2013 = clean_time(trip_2013)"
   ]
  },
  {
   "cell_type": "code",
   "execution_count": 6,
   "metadata": {},
   "outputs": [
    {
     "data": {
      "text/html": [
       "<div>\n",
       "<style scoped>\n",
       "    .dataframe tbody tr th:only-of-type {\n",
       "        vertical-align: middle;\n",
       "    }\n",
       "\n",
       "    .dataframe tbody tr th {\n",
       "        vertical-align: top;\n",
       "    }\n",
       "\n",
       "    .dataframe thead th {\n",
       "        text-align: right;\n",
       "    }\n",
       "</style>\n",
       "<table border=\"1\" class=\"dataframe\">\n",
       "  <thead>\n",
       "    <tr style=\"text-align: right;\">\n",
       "      <th></th>\n",
       "      <th>hack_license</th>\n",
       "      <th>pickup_datetime</th>\n",
       "      <th>dropoff_datetime</th>\n",
       "    </tr>\n",
       "  </thead>\n",
       "  <tbody>\n",
       "    <tr>\n",
       "      <th>0</th>\n",
       "      <td>2013013593</td>\n",
       "      <td>2013-06-01</td>\n",
       "      <td>2013-06-01 00:05:00</td>\n",
       "    </tr>\n",
       "    <tr>\n",
       "      <th>1</th>\n",
       "      <td>2013019632</td>\n",
       "      <td>2013-06-01</td>\n",
       "      <td>2013-06-01 00:16:00</td>\n",
       "    </tr>\n",
       "    <tr>\n",
       "      <th>2</th>\n",
       "      <td>2013029678</td>\n",
       "      <td>2013-06-01</td>\n",
       "      <td>2013-06-01 00:10:00</td>\n",
       "    </tr>\n",
       "    <tr>\n",
       "      <th>3</th>\n",
       "      <td>2013007860</td>\n",
       "      <td>2013-06-01</td>\n",
       "      <td>2013-06-01 00:08:00</td>\n",
       "    </tr>\n",
       "    <tr>\n",
       "      <th>4</th>\n",
       "      <td>2013010123</td>\n",
       "      <td>2013-06-01</td>\n",
       "      <td>2013-06-01 00:19:00</td>\n",
       "    </tr>\n",
       "  </tbody>\n",
       "</table>\n",
       "</div>"
      ],
      "text/plain": [
       "   hack_license pickup_datetime    dropoff_datetime\n",
       "0    2013013593      2013-06-01 2013-06-01 00:05:00\n",
       "1    2013019632      2013-06-01 2013-06-01 00:16:00\n",
       "2    2013029678      2013-06-01 2013-06-01 00:10:00\n",
       "3    2013007860      2013-06-01 2013-06-01 00:08:00\n",
       "4    2013010123      2013-06-01 2013-06-01 00:19:00"
      ]
     },
     "execution_count": 6,
     "metadata": {},
     "output_type": "execute_result"
    }
   ],
   "source": [
    "trip_2013.head()"
   ]
  },
  {
   "cell_type": "code",
   "execution_count": 7,
   "metadata": {},
   "outputs": [
    {
     "data": {
      "text/html": [
       "<div>\n",
       "<style scoped>\n",
       "    .dataframe tbody tr th:only-of-type {\n",
       "        vertical-align: middle;\n",
       "    }\n",
       "\n",
       "    .dataframe tbody tr th {\n",
       "        vertical-align: top;\n",
       "    }\n",
       "\n",
       "    .dataframe thead th {\n",
       "        text-align: right;\n",
       "    }\n",
       "</style>\n",
       "<table border=\"1\" class=\"dataframe\">\n",
       "  <thead>\n",
       "    <tr style=\"text-align: right;\">\n",
       "      <th></th>\n",
       "      <th>hack_license</th>\n",
       "      <th>pickup_datetime</th>\n",
       "      <th>dropoff_datetime</th>\n",
       "    </tr>\n",
       "  </thead>\n",
       "  <tbody>\n",
       "    <tr>\n",
       "      <th>4391103</th>\n",
       "      <td>2013009991</td>\n",
       "      <td>2013-06-10</td>\n",
       "      <td>2013-06-10 00:25:00</td>\n",
       "    </tr>\n",
       "    <tr>\n",
       "      <th>4391104</th>\n",
       "      <td>2013035947</td>\n",
       "      <td>2013-06-10</td>\n",
       "      <td>2013-06-10 00:11:00</td>\n",
       "    </tr>\n",
       "    <tr>\n",
       "      <th>4391105</th>\n",
       "      <td>2013032410</td>\n",
       "      <td>2013-06-10</td>\n",
       "      <td>2013-06-10 00:11:00</td>\n",
       "    </tr>\n",
       "    <tr>\n",
       "      <th>4391106</th>\n",
       "      <td>2013012548</td>\n",
       "      <td>2013-06-10</td>\n",
       "      <td>2013-06-10 00:13:00</td>\n",
       "    </tr>\n",
       "    <tr>\n",
       "      <th>4391107</th>\n",
       "      <td>2013014844</td>\n",
       "      <td>2013-06-10</td>\n",
       "      <td>2013-06-10 00:20:00</td>\n",
       "    </tr>\n",
       "  </tbody>\n",
       "</table>\n",
       "</div>"
      ],
      "text/plain": [
       "         hack_license pickup_datetime    dropoff_datetime\n",
       "4391103    2013009991      2013-06-10 2013-06-10 00:25:00\n",
       "4391104    2013035947      2013-06-10 2013-06-10 00:11:00\n",
       "4391105    2013032410      2013-06-10 2013-06-10 00:11:00\n",
       "4391106    2013012548      2013-06-10 2013-06-10 00:13:00\n",
       "4391107    2013014844      2013-06-10 2013-06-10 00:20:00"
      ]
     },
     "execution_count": 7,
     "metadata": {},
     "output_type": "execute_result"
    }
   ],
   "source": [
    "# to fit into memory\n",
    "## get info from sat 1/5/13 - fri 1/11/13\n",
    "trip_2013 = trip_2013[datetime.datetime.strptime('2013-06-10','%Y-%m-%d') <= trip_2013['pickup_datetime']]\n",
    "trip_2013 = trip_2013[trip_2013['pickup_datetime'] < datetime.datetime.strptime('2013-06-17','%Y-%m-%d')]\n",
    "trip_2013 = trip_2013.astype({'hack_license': 'int32'})\n",
    "trip_2013.head()"
   ]
  },
  {
   "cell_type": "code",
   "execution_count": 8,
   "metadata": {},
   "outputs": [
    {
     "data": {
      "text/plain": [
       "(3366734, 3)"
      ]
     },
     "execution_count": 8,
     "metadata": {},
     "output_type": "execute_result"
    }
   ],
   "source": [
    "trip_2013.shape"
   ]
  },
  {
   "cell_type": "code",
   "execution_count": null,
   "metadata": {},
   "outputs": [],
   "source": [
    "# calculate delta = next trip pickup time - current trip dropoff time\n",
    "trip_2013 = trip_2013.merge(trip_2013, on='hack_license', suffixes=['_now','_next'])\n",
    "# find all the future trips whose pickup time > current trip dropoff time\n",
    "trip_2013 = trip_2013[trip_2013['dropoff_datetime_now'] <= trip_2013['pickup_datetime_next']]\n",
    "# find the next trip\n",
    "trip_2013 = trip_2013.groupby(['hack_license',\n",
    "                               'pickup_datetime_now',\n",
    "                               'dropoff_datetime_now'])['pickup_datetime_next'].min().reset_index()\n",
    "# calculate delta\n",
    "trip_2013['delta'] = (trip_2013['pickup_datetime_next'] - trip_2013['dropoff_datetime_now']) / pd.Timedelta(hours=1)\n",
    "trip_2013.head()"
   ]
  },
  {
   "cell_type": "code",
   "execution_count": null,
   "metadata": {},
   "outputs": [],
   "source": [
    "# calculate the start and end working time of drivers\n",
    "# if delta > k hours, dropoff time = end working time, next trip's pickup time = start working time\n",
    "k = 5\n",
    "pick_drop = trip_2013[trip_2013.delta > k]\n",
    "# find the end working time of next shift; working hours = end working time - start working time\n",
    "pick_drop = pick_drop.merge(pick_drop[['hack_license','dropoff_datetime_now']], on='hack_license', suffixes=[None,'_end'])\n",
    "# find all the futre trips whose dropoff time < start working time\n",
    "pick_drop = pick_drop[pick_drop['pickup_datetime_next'] <= pick_drop['dropoff_datetime_now_end']]\n",
    "# find the last trip of a shift\n",
    "pick_drop = pick_drop.groupby(['hack_license',\n",
    "                               'dropoff_datetime_now','pickup_datetime_next',\n",
    "                               'delta']).dropoff_datetime_now_end.min().reset_index()\n",
    "# calculate working hours\n",
    "pick_drop['work_hour'] = (pick_drop['dropoff_datetime_now_end'] - pick_drop['pickup_datetime_next']) / pd.Timedelta(hours=1)\n",
    "pick_drop.head()"
   ]
  },
  {
   "cell_type": "code",
   "execution_count": null,
   "metadata": {},
   "outputs": [],
   "source": [
    "# extract hour, date, weekday(boolean) from datetime columns\n",
    "pick_drop['dropoff_hour_now'] = pick_drop.dropoff_datetime_now.dt.hour\n",
    "pick_drop['pickup_hour_next'] = pick_drop.pickup_datetime_next.dt.hour\n",
    "pick_drop['dropoff_day_now'] = pick_drop.dropoff_datetime_now.dt.date\n",
    "pick_drop['pickup_day_next'] = pick_drop.pickup_datetime_next.dt.date\n",
    "pick_drop['weekday'] = (pick_drop.loc[:,'dropoff_datetime_now'].dt.dayofweek // 5 == 1).astype(int)\n",
    "pick_drop.head()"
   ]
  },
  {
   "cell_type": "code",
   "execution_count": 35,
   "metadata": {},
   "outputs": [
    {
     "data": {
      "text/html": [
       "<div>\n",
       "<style scoped>\n",
       "    .dataframe tbody tr th:only-of-type {\n",
       "        vertical-align: middle;\n",
       "    }\n",
       "\n",
       "    .dataframe tbody tr th {\n",
       "        vertical-align: top;\n",
       "    }\n",
       "\n",
       "    .dataframe thead th {\n",
       "        text-align: right;\n",
       "    }\n",
       "</style>\n",
       "<table border=\"1\" class=\"dataframe\">\n",
       "  <thead>\n",
       "    <tr style=\"text-align: right;\">\n",
       "      <th></th>\n",
       "      <th>date</th>\n",
       "      <th>weekday</th>\n",
       "      <th>hour</th>\n",
       "      <th>pickup_percent</th>\n",
       "      <th>dropoff_percent</th>\n",
       "    </tr>\n",
       "  </thead>\n",
       "  <tbody>\n",
       "    <tr>\n",
       "      <th>0</th>\n",
       "      <td>2013-01-05</td>\n",
       "      <td>1</td>\n",
       "      <td>5</td>\n",
       "      <td>0.011347</td>\n",
       "      <td>4.968084</td>\n",
       "    </tr>\n",
       "    <tr>\n",
       "      <th>1</th>\n",
       "      <td>2013-01-05</td>\n",
       "      <td>1</td>\n",
       "      <td>6</td>\n",
       "      <td>0.090775</td>\n",
       "      <td>1.410263</td>\n",
       "    </tr>\n",
       "    <tr>\n",
       "      <th>2</th>\n",
       "      <td>2013-01-05</td>\n",
       "      <td>1</td>\n",
       "      <td>7</td>\n",
       "      <td>0.113469</td>\n",
       "      <td>0.712554</td>\n",
       "    </tr>\n",
       "    <tr>\n",
       "      <th>3</th>\n",
       "      <td>2013-01-05</td>\n",
       "      <td>1</td>\n",
       "      <td>8</td>\n",
       "      <td>0.192897</td>\n",
       "      <td>0.410708</td>\n",
       "    </tr>\n",
       "    <tr>\n",
       "      <th>4</th>\n",
       "      <td>2013-01-05</td>\n",
       "      <td>1</td>\n",
       "      <td>9</td>\n",
       "      <td>0.238284</td>\n",
       "      <td>0.301846</td>\n",
       "    </tr>\n",
       "  </tbody>\n",
       "</table>\n",
       "</div>"
      ],
      "text/plain": [
       "         date  weekday  hour  pickup_percent  dropoff_percent\n",
       "0  2013-01-05        1     5        0.011347         4.968084\n",
       "1  2013-01-05        1     6        0.090775         1.410263\n",
       "2  2013-01-05        1     7        0.113469         0.712554\n",
       "3  2013-01-05        1     8        0.192897         0.410708\n",
       "4  2013-01-05        1     9        0.238284         0.301846"
      ]
     },
     "execution_count": 35,
     "metadata": {},
     "output_type": "execute_result"
    }
   ],
   "source": [
    "# calculate percentage of pickup and dropoff in each hour, averaged across date\n",
    "pickup_per = pick_drop.groupby(['pickup_day_next','weekday','pickup_hour_next'])['pickup_hour_next'].count()\n",
    "# percentage = # pickup in each hour / # pickup in the day\n",
    "pickup_per = pickup_per.groupby(level=0).apply(lambda x: x / x.sum() * 100) \n",
    "pickup_per = pd.DataFrame(pickup_per).rename(columns={'pickup_hour_next':'pickup_percent'}).reset_index().\\\n",
    "                                        rename(columns={'pickup_day_next':'date',\n",
    "                                                        'pickup_hour_next':'hour'})\n",
    "\n",
    "dropoff_per = pick_drop.groupby(['dropoff_day_now','weekday','dropoff_hour_now'])['dropoff_hour_now'].count()\n",
    "dropoff_per = dropoff_per.groupby(level=0).apply(lambda x: x / x.sum() * 100) \n",
    "dropoff_per = pd.DataFrame(dropoff_per).rename(columns={'dropoff_hour_now':'dropoff_percent'}).reset_index().\\\n",
    "                                        rename(columns={'dropoff_day_now':'date',\n",
    "                                                        'dropoff_hour_now':'hour'})\n",
    "pick_drop_per = pickup_per.merge(dropoff_per)\n",
    "pick_drop_per.head()"
   ]
  },
  {
   "cell_type": "code",
   "execution_count": 36,
   "metadata": {},
   "outputs": [
    {
     "data": {
      "image/png": "[encoded data removed]",
      "text/plain": [
       "<Figure size 576x360 with 1 Axes>"
      ]
     },
     "metadata": {
      "needs_background": "light"
     },
     "output_type": "display_data"
    }
   ],
   "source": [
    "# Frequency of Pick-up and Drop-off Time\n",
    "pick_drop_per_all = pick_drop_per.groupby(['hour'])['pickup_percent','dropoff_percent'].mean().\\\n",
    "                                reset_index().set_index('hour')\n",
    "\n",
    "fig,ax = plt.subplots(figsize = (8,5))\n",
    "pick_drop_per_all.plot(kind='bar',ax=ax);\n",
    "ax.set_xlabel('Hour');\n",
    "ax.set_ylabel('Percentage');\n",
    "ax.set_title('Frequency of Pick-up and Drop-off Time (k={})'.format(k));\n",
    "ax.legend();"
   ]
  },
  {
   "cell_type": "code",
   "execution_count": 11,
   "metadata": {},
   "outputs": [
    {
     "data": {
      "image/png": "[encoded data removed]",
      "text/plain": [
       "<Figure size 1080x360 with 2 Axes>"
      ]
     },
     "metadata": {
      "needs_background": "light"
     },
     "output_type": "display_data"
    }
   ],
   "source": [
    "# Frequency of Pick-up and Drop-off Time (weekday and weekend)\n",
    "pick_drop_per = pick_drop_per.groupby(['hour','weekday'])['pickup_percent','dropoff_percent'].mean().\\\n",
    "                                reset_index().set_index('hour')\n",
    "\n",
    "fig,ax = plt.subplots(1,2,figsize = (15,5))\n",
    "pick_drop_per[pick_drop_per.weekday == 0].drop('weekday',axis=1).plot(kind='bar',ax=ax[0]);\n",
    "pick_drop_per[pick_drop_per.weekday == 1].drop('weekday',axis=1).plot(kind='bar',ax=ax[1]);\n",
    "ax[0].set_xlabel('Hour');\n",
    "ax[0].set_ylabel('Percentage');\n",
    "ax[0].set_title('Frequency of Pick-up and Drop-off Time (weekday, k={})'.format(k));\n",
    "ax[0].legend();\n",
    "\n",
    "ax[1].set_xlabel('Hour');\n",
    "ax[1].set_ylabel('Percentage');\n",
    "ax[1].set_title('Frequency of Pick-up and Drop-off Time (weekend, k={})'.format(k));\n",
    "ax[1].legend();"
   ]
  },
  {
   "cell_type": "code",
   "execution_count": 37,
   "metadata": {},
   "outputs": [
    {
     "data": {
      "image/png": "[encoded data removed]",
      "text/plain": [
       "<Figure size 1080x360 with 2 Axes>"
      ]
     },
     "metadata": {
      "needs_background": "light"
     },
     "output_type": "display_data"
    }
   ],
   "source": [
    "# Frequency of Pick-up and Drop-off Time (weekday and weekend)\n",
    "pick_drop_per_wk = pick_drop_per.groupby(['hour','weekday'])['pickup_percent','dropoff_percent'].mean().\\\n",
    "                                reset_index().set_index('hour')\n",
    "\n",
    "fig,ax = plt.subplots(1,2,figsize = (15,5))\n",
    "pick_drop_per_wk[pick_drop_per_wk.weekday == 0].drop('weekday',axis=1).plot(kind='bar',ax=ax[0]);\n",
    "pick_drop_per_wk[pick_drop_per_wk.weekday == 1].drop('weekday',axis=1).plot(kind='bar',ax=ax[1]);\n",
    "ax[0].set_xlabel('Hour');\n",
    "ax[0].set_ylabel('Percentage');\n",
    "ax[0].set_title('Frequency of Pick-up and Drop-off Time (weekday, k={})'.format(k));\n",
    "ax[0].legend();\n",
    "\n",
    "ax[1].set_xlabel('Hour');\n",
    "ax[1].set_ylabel('Percentage');\n",
    "ax[1].set_title('Frequency of Pick-up and Drop-off Time (weekend, k={})'.format(k));\n",
    "ax[1].legend();"
   ]
  },
  {
   "cell_type": "code",
   "execution_count": 38,
   "metadata": {},
   "outputs": [
    {
     "name": "stdout",
     "output_type": "stream",
     "text": [
      "drop 0.50% records\n"
     ]
    }
   ],
   "source": [
    "# plt.boxplot(pick_drop.work_hour);\n",
    "n = pick_drop[pick_drop.work_hour>=24].shape[0] / pick_drop.shape[0] * 100\n",
    "print('drop {n:.2f}% records'.format(n=n))\n",
    "pick_drop = pick_drop[pick_drop.work_hour<24]"
   ]
  },
  {
   "cell_type": "code",
   "execution_count": 39,
   "metadata": {},
   "outputs": [
    {
     "data": {
      "image/png": "[encoded data removed]",
      "text/plain": [
       "<Figure size 576x360 with 1 Axes>"
      ]
     },
     "metadata": {
      "needs_background": "light"
     },
     "output_type": "display_data"
    }
   ],
   "source": [
    "fig,ax = plt.subplots(figsize = (8,5))\n",
    "ax.hist(pick_drop.loc[:,'work_hour']);\n",
    "ax.set_xlabel('Work time (hour)');\n",
    "ax.set_ylabel('Count');\n",
    "ax.set_title('Distribution of Work time (k={})'.format(k));"
   ]
  },
  {
   "cell_type": "code",
   "execution_count": 40,
   "metadata": {},
   "outputs": [
    {
     "data": {
      "image/png": "[encoded data removed]",
      "text/plain": [
       "<Figure size 1080x360 with 2 Axes>"
      ]
     },
     "metadata": {
      "needs_background": "light"
     },
     "output_type": "display_data"
    }
   ],
   "source": [
    "fig,ax = plt.subplots(1,2,figsize = (15,5))\n",
    "ax[0].hist(pick_drop.loc[pick_drop.weekday == 1,'work_hour']);\n",
    "ax[1].hist(pick_drop.loc[pick_drop.weekday == 0,'work_hour']);\n",
    "ax[0].set_xlabel('Work time (hour)');\n",
    "ax[0].set_ylabel('Count');\n",
    "ax[0].set_title('Distribution of Work time (weekday, k={})'.format(k));\n",
    "ax[1].set_xlabel('Work time (hour)');\n",
    "ax[1].set_ylabel('Count');\n",
    "ax[1].set_title('Distribution of Work time (weekend, k={})'.format(k));"
   ]
  },
  {
   "cell_type": "code",
   "execution_count": null,
   "metadata": {},
   "outputs": [],
   "source": []
  }
 ],
 "metadata": {
  "kernelspec": {
   "display_name": "Python 3",
   "language": "python",
   "name": "python3"
  },
  "language_info": {
   "codemirror_mode": {
    "name": "ipython",
    "version": 3
   },
   "file_extension": ".py",
   "mimetype": "text/x-python",
   "name": "python",
   "nbconvert_exporter": "python",
   "pygments_lexer": "ipython3",
   "version": "3.7.3"
  }
 },
 "nbformat": 4,
 "nbformat_minor": 4
}
