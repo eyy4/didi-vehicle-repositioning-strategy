{
 "cells": [
  {
   "cell_type": "markdown",
   "metadata": {},
   "source": [
    "# Accessing database"
   ]
  },
  {
   "cell_type": "markdown",
   "metadata": {},
   "source": [
    "Data can be downloaded here: [link](https://nyc-taxi-data-2010-2013.s3.amazonaws.com/trip_data.db)"
   ]
  },
  {
   "cell_type": "code",
   "execution_count": 1,
   "metadata": {},
   "outputs": [],
   "source": [
    "import sqlite3"
   ]
  },
  {
   "cell_type": "code",
   "execution_count": 2,
   "metadata": {},
   "outputs": [],
   "source": [
    "conn = sqlite3.connect('trip_data.db')\n",
    "cursor = conn.cursor()"
   ]
  },
  {
   "cell_type": "code",
   "execution_count": 3,
   "metadata": {},
   "outputs": [
    {
     "data": {
      "text/plain": [
       "[(2013009441,\n",
       "  2013013593,\n",
       "  'VTS',\n",
       "  1,\n",
       "  '2013-06-01 00:00:00',\n",
       "  '2013-06-01 00:05:00',\n",
       "  1,\n",
       "  300,\n",
       "  0.74,\n",
       "  -73.972008,\n",
       "  40.749767,\n",
       "  -73.968109,\n",
       "  40.756382),\n",
       " (2013012081,\n",
       "  2013019632,\n",
       "  'VTS',\n",
       "  1,\n",
       "  '2013-06-01 00:00:00',\n",
       "  '2013-06-01 00:16:00',\n",
       "  1,\n",
       "  960,\n",
       "  3.52,\n",
       "  -73.984909,\n",
       "  40.779106,\n",
       "  -73.944702,\n",
       "  40.803219),\n",
       " (2013006133,\n",
       "  2013029678,\n",
       "  'VTS',\n",
       "  1,\n",
       "  '2013-06-01 00:00:00',\n",
       "  '2013-06-01 00:10:00',\n",
       "  1,\n",
       "  600,\n",
       "  2.34,\n",
       "  -73.99204300000001,\n",
       "  40.725639,\n",
       "  -73.99011999999999,\n",
       "  40.750992),\n",
       " (2013007864,\n",
       "  2013007860,\n",
       "  'VTS',\n",
       "  1,\n",
       "  '2013-06-01 00:00:00',\n",
       "  '2013-06-01 00:08:00',\n",
       "  1,\n",
       "  480,\n",
       "  1.63,\n",
       "  -73.98207099999999,\n",
       "  40.743259,\n",
       "  -73.990967,\n",
       "  40.723995),\n",
       " (2013010123,\n",
       "  2013010123,\n",
       "  'VTS',\n",
       "  1,\n",
       "  '2013-06-01 00:00:00',\n",
       "  '2013-06-01 00:19:00',\n",
       "  4,\n",
       "  1140,\n",
       "  5.98,\n",
       "  -73.999809,\n",
       "  40.732849,\n",
       "  -73.962357,\n",
       "  40.800049)]"
      ]
     },
     "execution_count": 3,
     "metadata": {},
     "output_type": "execute_result"
    }
   ],
   "source": [
    "# There are two tables in this database: trip and fare, corresponding to trip_data_6.csv and trip_fare_6.csv\n",
    "# Sample Usage\n",
    "cursor.execute(\"\"\"\n",
    "select *\n",
    "from trip\n",
    "limit 5\n",
    "\"\"\")\n",
    "res = cursor.fetchall()\n",
    "res"
   ]
  },
  {
   "cell_type": "code",
   "execution_count": 4,
   "metadata": {},
   "outputs": [
    {
     "data": {
      "text/plain": [
       "(('medallion', None, None, None, None, None, None),\n",
       " ('hack_license', None, None, None, None, None, None),\n",
       " ('vendor_id', None, None, None, None, None, None),\n",
       " ('rate_code', None, None, None, None, None, None),\n",
       " ('pickup_datetime', None, None, None, None, None, None),\n",
       " ('dropoff_datetime', None, None, None, None, None, None),\n",
       " ('passenger_count', None, None, None, None, None, None),\n",
       " ('trip_time_in_secs', None, None, None, None, None, None),\n",
       " ('trip_distance', None, None, None, None, None, None),\n",
       " ('pickup_longitude', None, None, None, None, None, None),\n",
       " ('pickup_latitude', None, None, None, None, None, None),\n",
       " ('dropoff_longitude', None, None, None, None, None, None),\n",
       " ('dropoff_latitude', None, None, None, None, None, None))"
      ]
     },
     "execution_count": 4,
     "metadata": {},
     "output_type": "execute_result"
    }
   ],
   "source": [
    "# Even though I don't understand why it's like this, but the column names can be seen like this\n",
    "cursor.description"
   ]
  },
  {
   "cell_type": "code",
   "execution_count": 5,
   "metadata": {},
   "outputs": [],
   "source": [
    "conn.close()"
   ]
  }
 ],
 "metadata": {
  "kernelspec": {
   "display_name": "Python 3",
   "language": "python",
   "name": "python3"
  },
  "language_info": {
   "codemirror_mode": {
    "name": "ipython",
    "version": 3
   },
   "file_extension": ".py",
   "mimetype": "text/x-python",
   "name": "python",
   "nbconvert_exporter": "python",
   "pygments_lexer": "ipython3",
   "version": "3.8.3"
  }
 },
 "nbformat": 4,
 "nbformat_minor": 4
}
