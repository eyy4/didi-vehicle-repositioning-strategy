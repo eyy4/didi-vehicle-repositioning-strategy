{
 "cells": [
  {
   "cell_type": "markdown",
   "metadata": {},
   "source": [
    "This script calculates the driver income per shift"
   ]
  },
  {
   "cell_type": "markdown",
   "metadata": {},
   "source": [
    "## Load packages"
   ]
  },
  {
   "cell_type": "code",
   "execution_count": 1,
   "metadata": {},
   "outputs": [],
   "source": [
    "import pandas as pd\n",
    "import numpy as np\n",
    "import datetime\n",
    "import matplotlib.pyplot as plt\n",
    "from matplotlib.ticker import PercentFormatter\n",
    "import seaborn as sns"
   ]
  },
  {
   "cell_type": "markdown",
   "metadata": {},
   "source": [
    "## Load data"
   ]
  },
  {
   "cell_type": "code",
   "execution_count": 2,
   "metadata": {},
   "outputs": [],
   "source": [
    "trip_df = pd.read_csv('../data/trip_cleaned.csv')"
   ]
  },
  {
   "cell_type": "markdown",
   "metadata": {},
   "source": [
    "## Generate shift id for each shift"
   ]
  },
  {
   "cell_type": "code",
   "execution_count": 3,
   "metadata": {},
   "outputs": [
    {
     "name": "stderr",
     "output_type": "stream",
     "text": [
      "D:\\Ananconda\\install\\envs\\py3\\lib\\site-packages\\pandas\\core\\indexing.py:494: SettingWithCopyWarning: \n",
      "A value is trying to be set on a copy of a slice from a DataFrame.\n",
      "Try using .loc[row_indexer,col_indexer] = value instead\n",
      "\n",
      "See the caveats in the documentation: http://pandas.pydata.org/pandas-docs/stable/user_guide/indexing.html#returning-a-view-versus-a-copy\n",
      "  self.obj[item] = s\n",
      "D:\\Ananconda\\install\\envs\\py3\\lib\\site-packages\\pandas\\core\\indexing.py:376: SettingWithCopyWarning: \n",
      "A value is trying to be set on a copy of a slice from a DataFrame.\n",
      "Try using .loc[row_indexer,col_indexer] = value instead\n",
      "\n",
      "See the caveats in the documentation: http://pandas.pydata.org/pandas-docs/stable/user_guide/indexing.html#returning-a-view-versus-a-copy\n",
      "  self.obj[key] = _infer_fill_value(value)\n"
     ]
    }
   ],
   "source": [
    "cols = ['hack_license', 'pickup_datetime', 'dropoff_datetime', 'total_amount', 'first_pickup']\n",
    "trip_df_income = trip_df[cols]\n",
    "trip_df_income.loc[:,'pickup_datetime'] = pd.to_datetime(trip_df_income['pickup_datetime'])\n",
    "trip_df_income.loc[:,'dropoff_datetime'] = pd.to_datetime(trip_df_income['dropoff_datetime'])\n",
    "trip_df_income.loc[:,'shift_id'] = trip_df_income['first_pickup'].cumsum()"
   ]
  },
  {
   "cell_type": "markdown",
   "metadata": {},
   "source": [
    "## Get start, end time and total income of each shift"
   ]
  },
  {
   "cell_type": "code",
   "execution_count": 4,
   "metadata": {},
   "outputs": [
    {
     "data": {
      "text/html": [
       "<div>\n",
       "<style scoped>\n",
       "    .dataframe tbody tr th:only-of-type {\n",
       "        vertical-align: middle;\n",
       "    }\n",
       "\n",
       "    .dataframe tbody tr th {\n",
       "        vertical-align: top;\n",
       "    }\n",
       "\n",
       "    .dataframe thead th {\n",
       "        text-align: right;\n",
       "    }\n",
       "</style>\n",
       "<table border=\"1\" class=\"dataframe\">\n",
       "  <thead>\n",
       "    <tr style=\"text-align: right;\">\n",
       "      <th></th>\n",
       "      <th>shift_id</th>\n",
       "      <th>total_amount</th>\n",
       "      <th>pickup_datetime</th>\n",
       "      <th>dropoff_datetime</th>\n",
       "      <th>pickup_weekday</th>\n",
       "      <th>dropoff_weekday</th>\n",
       "    </tr>\n",
       "  </thead>\n",
       "  <tbody>\n",
       "    <tr>\n",
       "      <th>0</th>\n",
       "      <td>0.0</td>\n",
       "      <td>98.10</td>\n",
       "      <td>2013-06-24 18:55:00</td>\n",
       "      <td>2013-06-24 22:13:00</td>\n",
       "      <td>1</td>\n",
       "      <td>1</td>\n",
       "    </tr>\n",
       "    <tr>\n",
       "      <th>1</th>\n",
       "      <td>1.0</td>\n",
       "      <td>278.78</td>\n",
       "      <td>2013-06-26 17:24:00</td>\n",
       "      <td>2013-06-27 00:44:00</td>\n",
       "      <td>1</td>\n",
       "      <td>1</td>\n",
       "    </tr>\n",
       "    <tr>\n",
       "      <th>2</th>\n",
       "      <td>2.0</td>\n",
       "      <td>372.00</td>\n",
       "      <td>2013-06-27 17:20:00</td>\n",
       "      <td>2013-06-28 01:26:00</td>\n",
       "      <td>1</td>\n",
       "      <td>1</td>\n",
       "    </tr>\n",
       "    <tr>\n",
       "      <th>3</th>\n",
       "      <td>3.0</td>\n",
       "      <td>401.35</td>\n",
       "      <td>2013-06-28 18:08:00</td>\n",
       "      <td>2013-06-29 02:58:00</td>\n",
       "      <td>1</td>\n",
       "      <td>0</td>\n",
       "    </tr>\n",
       "    <tr>\n",
       "      <th>4</th>\n",
       "      <td>4.0</td>\n",
       "      <td>390.34</td>\n",
       "      <td>2013-06-29 18:07:00</td>\n",
       "      <td>2013-06-30 04:49:00</td>\n",
       "      <td>0</td>\n",
       "      <td>0</td>\n",
       "    </tr>\n",
       "  </tbody>\n",
       "</table>\n",
       "</div>"
      ],
      "text/plain": [
       "   shift_id  total_amount     pickup_datetime    dropoff_datetime  \\\n",
       "0       0.0         98.10 2013-06-24 18:55:00 2013-06-24 22:13:00   \n",
       "1       1.0        278.78 2013-06-26 17:24:00 2013-06-27 00:44:00   \n",
       "2       2.0        372.00 2013-06-27 17:20:00 2013-06-28 01:26:00   \n",
       "3       3.0        401.35 2013-06-28 18:08:00 2013-06-29 02:58:00   \n",
       "4       4.0        390.34 2013-06-29 18:07:00 2013-06-30 04:49:00   \n",
       "\n",
       "   pickup_weekday  dropoff_weekday  \n",
       "0               1                1  \n",
       "1               1                1  \n",
       "2               1                1  \n",
       "3               1                0  \n",
       "4               0                0  "
      ]
     },
     "execution_count": 4,
     "metadata": {},
     "output_type": "execute_result"
    }
   ],
   "source": [
    "shifts_income = trip_df_income.groupby(['shift_id']).agg({'total_amount':np.sum,\n",
    "                                                          'pickup_datetime':np.min,\n",
    "                                                          'dropoff_datetime':np.max}).reset_index()\n",
    "shifts_income['pickup_weekday'] = (shifts_income.loc[:,'pickup_datetime'].dt.dayofweek // 5 == 0).astype(int)\n",
    "shifts_income['dropoff_weekday'] = (shifts_income.loc[:,'dropoff_datetime'].dt.dayofweek // 5 == 0).astype(int)\n",
    "\n",
    "shifts_income.head()"
   ]
  },
  {
   "cell_type": "markdown",
   "metadata": {},
   "source": [
    "## Identify morning and night shift for weekday and weekend"
   ]
  },
  {
   "cell_type": "code",
   "execution_count": 5,
   "metadata": {},
   "outputs": [],
   "source": [
    "# copy from EDA_activetime_dist.ipnb\n",
    "def get_shift(time, weekday=True, pickup=True):\n",
    "    if weekday:\n",
    "        if pickup:\n",
    "            if (time > datetime.time(23, 30)) | (time <= datetime.time(11, 30)):\n",
    "                return 'A'\n",
    "            else:\n",
    "                return 'B'\n",
    "        else:\n",
    "            if (time > datetime.time(8, 30)) & (time <= datetime.time(20, 30)):\n",
    "                return 'A'\n",
    "            else:\n",
    "                return 'B'            \n",
    "    else: ## weekend\n",
    "        if pickup:\n",
    "            if (time > datetime.time(2, 0)) & (time <= datetime.time(14, 0)):\n",
    "                return 'A'\n",
    "            else:\n",
    "                return 'B'\n",
    "        else:\n",
    "            if (time > datetime.time(10, 0)) & (time <= datetime.time(22, 0)):\n",
    "                return 'A'\n",
    "            else:\n",
    "                return 'B'        \n",
    "        return None"
   ]
  },
  {
   "cell_type": "code",
   "execution_count": 6,
   "metadata": {},
   "outputs": [
    {
     "data": {
      "text/html": [
       "<div>\n",
       "<style scoped>\n",
       "    .dataframe tbody tr th:only-of-type {\n",
       "        vertical-align: middle;\n",
       "    }\n",
       "\n",
       "    .dataframe tbody tr th {\n",
       "        vertical-align: top;\n",
       "    }\n",
       "\n",
       "    .dataframe thead th {\n",
       "        text-align: right;\n",
       "    }\n",
       "</style>\n",
       "<table border=\"1\" class=\"dataframe\">\n",
       "  <thead>\n",
       "    <tr style=\"text-align: right;\">\n",
       "      <th></th>\n",
       "      <th>shift_id</th>\n",
       "      <th>total_amount</th>\n",
       "      <th>pickup_datetime</th>\n",
       "      <th>dropoff_datetime</th>\n",
       "      <th>pickup_weekday</th>\n",
       "      <th>dropoff_weekday</th>\n",
       "      <th>PU_time</th>\n",
       "      <th>DO_time</th>\n",
       "      <th>_PU_shift</th>\n",
       "      <th>_DO_shift</th>\n",
       "    </tr>\n",
       "  </thead>\n",
       "  <tbody>\n",
       "    <tr>\n",
       "      <th>0</th>\n",
       "      <td>0.0</td>\n",
       "      <td>98.10</td>\n",
       "      <td>2013-06-24 18:55:00</td>\n",
       "      <td>2013-06-24 22:13:00</td>\n",
       "      <td>1</td>\n",
       "      <td>1</td>\n",
       "      <td>18:55:00</td>\n",
       "      <td>22:13:00</td>\n",
       "      <td>B</td>\n",
       "      <td>B</td>\n",
       "    </tr>\n",
       "    <tr>\n",
       "      <th>1</th>\n",
       "      <td>1.0</td>\n",
       "      <td>278.78</td>\n",
       "      <td>2013-06-26 17:24:00</td>\n",
       "      <td>2013-06-27 00:44:00</td>\n",
       "      <td>1</td>\n",
       "      <td>1</td>\n",
       "      <td>17:24:00</td>\n",
       "      <td>00:44:00</td>\n",
       "      <td>B</td>\n",
       "      <td>B</td>\n",
       "    </tr>\n",
       "    <tr>\n",
       "      <th>2</th>\n",
       "      <td>2.0</td>\n",
       "      <td>372.00</td>\n",
       "      <td>2013-06-27 17:20:00</td>\n",
       "      <td>2013-06-28 01:26:00</td>\n",
       "      <td>1</td>\n",
       "      <td>1</td>\n",
       "      <td>17:20:00</td>\n",
       "      <td>01:26:00</td>\n",
       "      <td>B</td>\n",
       "      <td>B</td>\n",
       "    </tr>\n",
       "    <tr>\n",
       "      <th>3</th>\n",
       "      <td>3.0</td>\n",
       "      <td>401.35</td>\n",
       "      <td>2013-06-28 18:08:00</td>\n",
       "      <td>2013-06-29 02:58:00</td>\n",
       "      <td>1</td>\n",
       "      <td>0</td>\n",
       "      <td>18:08:00</td>\n",
       "      <td>02:58:00</td>\n",
       "      <td>B</td>\n",
       "      <td>B</td>\n",
       "    </tr>\n",
       "    <tr>\n",
       "      <th>4</th>\n",
       "      <td>4.0</td>\n",
       "      <td>390.34</td>\n",
       "      <td>2013-06-29 18:07:00</td>\n",
       "      <td>2013-06-30 04:49:00</td>\n",
       "      <td>0</td>\n",
       "      <td>0</td>\n",
       "      <td>18:07:00</td>\n",
       "      <td>04:49:00</td>\n",
       "      <td>B</td>\n",
       "      <td>B</td>\n",
       "    </tr>\n",
       "  </tbody>\n",
       "</table>\n",
       "</div>"
      ],
      "text/plain": [
       "   shift_id  total_amount     pickup_datetime    dropoff_datetime  \\\n",
       "0       0.0         98.10 2013-06-24 18:55:00 2013-06-24 22:13:00   \n",
       "1       1.0        278.78 2013-06-26 17:24:00 2013-06-27 00:44:00   \n",
       "2       2.0        372.00 2013-06-27 17:20:00 2013-06-28 01:26:00   \n",
       "3       3.0        401.35 2013-06-28 18:08:00 2013-06-29 02:58:00   \n",
       "4       4.0        390.34 2013-06-29 18:07:00 2013-06-30 04:49:00   \n",
       "\n",
       "   pickup_weekday  dropoff_weekday   PU_time   DO_time _PU_shift _DO_shift  \n",
       "0               1                1  18:55:00  22:13:00         B         B  \n",
       "1               1                1  17:24:00  00:44:00         B         B  \n",
       "2               1                1  17:20:00  01:26:00         B         B  \n",
       "3               1                0  18:08:00  02:58:00         B         B  \n",
       "4               0                0  18:07:00  04:49:00         B         B  "
      ]
     },
     "execution_count": 6,
     "metadata": {},
     "output_type": "execute_result"
    }
   ],
   "source": [
    "shifts_income.loc[:,'PU_time'] = shifts_income['pickup_datetime'].apply(lambda x: x.time())\n",
    "shifts_income.loc[:,'DO_time'] = shifts_income['dropoff_datetime'].apply(lambda x: x.time())\n",
    "shifts_income.loc[(shifts_income['pickup_weekday']==1), '_PU_shift'] = shifts_income.PU_time\\\n",
    "                                .apply(lambda x: get_shift(x, weekday=True, pickup=True))\n",
    "shifts_income.loc[(shifts_income['dropoff_weekday']==1), '_DO_shift'] = shifts_income.DO_time\\\n",
    "                                .apply(lambda x: get_shift(x, weekday=True, pickup=False))\n",
    "\n",
    "## determine shift for weekends\n",
    "shifts_income.loc[(shifts_income['pickup_weekday']==0) , '_PU_shift'] = shifts_income.PU_time\\\n",
    "                                .apply(lambda x: get_shift(x, weekday=False, pickup=True))\n",
    "shifts_income.loc[(shifts_income['dropoff_weekday']==0), '_DO_shift'] = shifts_income.DO_time\\\n",
    "                                .apply(lambda x: get_shift(x, weekday=False, pickup=False))\n",
    "shifts_income.head()"
   ]
  },
  {
   "cell_type": "markdown",
   "metadata": {},
   "source": [
    "## Check outliers\n",
    "Drop income higher than $1000 in a single shift"
   ]
  },
  {
   "cell_type": "code",
   "execution_count": 7,
   "metadata": {},
   "outputs": [
    {
     "name": "stdout",
     "output_type": "stream",
     "text": [
      "1083 (0.17%) records: driver income per shift > $1000\n",
      "20755 (3.28%) records: driver income per shift < $100\n",
      "588635 (92.92%) records: driver income per shift < $500\n",
      "=========================================================\n",
      "count    633454.000000\n",
      "mean        326.428159\n",
      "std         132.283864\n",
      "min           3.500000\n",
      "25%         251.660000\n",
      "50%         319.810000\n",
      "75%         389.760000\n",
      "max        7739.640000\n",
      "Name: total_amount, dtype: float64\n"
     ]
    }
   ],
   "source": [
    "N = shifts_income.shape[0]\n",
    "n0 = len(shifts_income.loc[(shifts_income['total_amount']>1000), 'total_amount'])\n",
    "n1 = len(shifts_income.loc[(shifts_income['total_amount']<=100), 'total_amount'])\n",
    "n2 = len(shifts_income.loc[(shifts_income['total_amount']<500), 'total_amount'])\n",
    "print('{n0} ({n0_per:.2f}%) records: driver income per shift > $1000\\n\\\n",
    "{n1} ({n1_per:.2f}%) records: driver income per shift < $100\\n\\\n",
    "{n2} ({n2_per:.2f}%) records: driver income per shift < $500\\n\\\n",
    "========================================================='.format(n0 = n0, n0_per = n0/N*100,\n",
    "                                                                  n1 = n1, n1_per = n1/N*100,\n",
    "                                                                  n2 = n2, n2_per = n2/N*100))\n",
    "print(shifts_income['total_amount'].describe())"
   ]
  },
  {
   "cell_type": "code",
   "execution_count": 8,
   "metadata": {},
   "outputs": [],
   "source": [
    "index_income = (shifts_income['total_amount']<=1000)"
   ]
  },
  {
   "cell_type": "markdown",
   "metadata": {},
   "source": [
    "## Plot income distribution"
   ]
  },
  {
   "cell_type": "code",
   "execution_count": 16,
   "metadata": {},
   "outputs": [
    {
     "data": {
      "image/png": "[encoded data removed]",
      "text/plain": [
       "<Figure size 1296x1080 with 4 Axes>"
      ]
     },
     "metadata": {
      "needs_background": "light"
     },
     "output_type": "display_data"
    }
   ],
   "source": [
    "plt.rcParams.update({'font.size': 14})\n",
    "fig, ax = plt.subplots(2,2, figsize=(18,15), sharey=True)\n",
    "\n",
    "data = shifts_income.loc[index_income & \n",
    "                         (shifts_income['pickup_weekday'] == 1) & \n",
    "                         (shifts_income['_PU_shift'] == 'A')]['total_amount']\n",
    "ax[0,0].hist(data, weights=np.ones(len(data)) / len(data), bins=30)\n",
    "ax[0,0].set_title('Histogram of Driver Income (Morning Shift, Weekday)');\n",
    "ax[0,0].set_xlabel('Income');\n",
    "ax[0,0].set_ylabel('Percentage');\n",
    "ax[0,0].yaxis.set_major_formatter(PercentFormatter(1))\n",
    "\n",
    "data = shifts_income.loc[index_income & \n",
    "                         (shifts_income['pickup_weekday'] == 0) & \n",
    "                         (shifts_income['_PU_shift'] == 'A')]['total_amount']\n",
    "ax[0,1].hist(data, weights=np.ones(len(data)) / len(data), bins=30)\n",
    "ax[0,1].set_title('Histogram of Driver Income (Morning Shift, Weekend)');\n",
    "ax[0,1].set_xlabel('Income');\n",
    "ax[0,1].set_ylabel('Percentage');\n",
    "ax[0,1].yaxis.set_major_formatter(PercentFormatter(1))\n",
    "\n",
    "data = shifts_income.loc[index_income & \n",
    "                         (shifts_income['pickup_weekday'] == 1) & \n",
    "                         (shifts_income['_PU_shift'] == 'B')]['total_amount']\n",
    "ax[1,0].hist(data, weights=np.ones(len(data)) / len(data), bins=30)\n",
    "ax[1,0].set_title('Histogram of Driver Income (Evening Shift, Weekday)');\n",
    "ax[1,0].set_xlabel('Income');\n",
    "ax[1,0].set_ylabel('Percentage');\n",
    "ax[1,0].yaxis.set_major_formatter(PercentFormatter(1))\n",
    "\n",
    "data = shifts_income.loc[index_income & \n",
    "                         (shifts_income['pickup_weekday'] == 0) & \n",
    "                         (shifts_income['_PU_shift'] == 'B')]['total_amount']\n",
    "ax[1,1].hist(data, weights=np.ones(len(data)) / len(data), bins=30)\n",
    "ax[1,1].set_title('Histogram of Driver Income (Evening Shift, Weekend)');\n",
    "ax[1,1].set_xlabel('Income');\n",
    "ax[1,1].set_ylabel('Percentage');\n",
    "ax[1,1].yaxis.set_major_formatter(PercentFormatter(1))\n",
    "\n",
    "\n",
    "fig.savefig('../fig/driver_income.png', bbox_inches = 'tight');"
   ]
  },
  {
   "cell_type": "code",
   "execution_count": null,
   "metadata": {},
   "outputs": [],
   "source": []
  }
 ],
 "metadata": {
  "kernelspec": {
   "display_name": "py3",
   "language": "python",
   "name": "py3"
  },
  "language_info": {
   "codemirror_mode": {
    "name": "ipython",
    "version": 3
   },
   "file_extension": ".py",
   "mimetype": "text/x-python",
   "name": "python",
   "nbconvert_exporter": "python",
   "pygments_lexer": "ipython3",
   "version": "3.7.6"
  }
 },
 "nbformat": 4,
 "nbformat_minor": 4
}
