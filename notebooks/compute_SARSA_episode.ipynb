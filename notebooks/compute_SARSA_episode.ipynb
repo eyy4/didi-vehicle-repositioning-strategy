{
 "cells": [
  {
   "cell_type": "markdown",
   "metadata": {},
   "source": [
    "## Generate dataset for SARSA algorithm"
   ]
  },
  {
   "cell_type": "code",
   "execution_count": 1,
   "metadata": {},
   "outputs": [],
   "source": [
    "import pandas as pd\n",
    "import matplotlib.pyplot as plt\n",
    "import numpy as np\n",
    "import seaborn as sns"
   ]
  },
  {
   "cell_type": "code",
   "execution_count": 2,
   "metadata": {},
   "outputs": [],
   "source": [
    "cleaned_trip_df = pd.read_csv('../data/trip_cleaned.csv')"
   ]
  },
  {
   "cell_type": "code",
   "execution_count": 6,
   "metadata": {},
   "outputs": [],
   "source": [
    "episode_data = cleaned_trip_df\n",
    "episode_data = episode_data[['hack_license', 'pickup_datetime', 'dropoff_datetime', \n",
    "                            'pickup_taxizone_id', 'dropoff_taxizone_id', \n",
    "                            'total_amount', 'first_pickup', 'last_dropoff']].copy()\n",
    "episode_data.sort_values(['hack_license', 'pickup_datetime'], inplace=True)\n",
    "episode_data['pickup_datetime'] = pd.to_datetime(episode_data['pickup_datetime'])\n",
    "episode_data['dropoff_datetime'] = pd.to_datetime(episode_data['dropoff_datetime'])"
   ]
  },
  {
   "cell_type": "markdown",
   "metadata": {},
   "source": [
    "## Keep only data points of full shift \n",
    "A complete shift must have both the first pickup and the last drop off"
   ]
  },
  {
   "cell_type": "code",
   "execution_count": 7,
   "metadata": {},
   "outputs": [],
   "source": [
    "episode_data['mask_start'] = np.where(episode_data[\"first_pickup\"] == 1, 1, np.nan)\n",
    "episode_data['mask_start'] = episode_data.groupby('hack_license')['mask_start'].ffill()\n",
    "episode_data['mask_end'] = np.where(episode_data[\"last_dropoff\"] == 1, 1, np.nan)\n",
    "episode_data['mask_end'] = episode_data.groupby('hack_license')['mask_end'].bfill()\n",
    "episode_data['mask'] = np.where((episode_data[\"mask_start\"] == 1) & (episode_data[\"mask_end\"] == 1), 1, np.nan)\n",
    "episode_data.dropna(subset=['mask'], inplace=True)\n",
    "episode_data.drop(columns=['mask_start', 'mask_end', 'mask'], inplace=True)"
   ]
  },
  {
   "cell_type": "markdown",
   "metadata": {},
   "source": [
    "## Assign unique episode id\n",
    "One shift of a driver is assgined with a unique id"
   ]
  },
  {
   "cell_type": "code",
   "execution_count": 8,
   "metadata": {},
   "outputs": [],
   "source": [
    "episode_data['episode'] = np.where(episode_data[\"first_pickup\"] == 1, episode_data[\"first_pickup\"].index, np.nan)\n",
    "episode_data['episode'] = episode_data.groupby('hack_license')['episode'].ffill()"
   ]
  },
  {
   "cell_type": "markdown",
   "metadata": {},
   "source": [
    "## Convert all time columns to time index\n",
    "depending on `delta_t`. First round and convert using `interval_index_table`."
   ]
  },
  {
   "cell_type": "code",
   "execution_count": 9,
   "metadata": {},
   "outputs": [],
   "source": [
    "interval_index_table = pd.read_csv('../data/interval_index_table_0.csv')\n",
    "interval_index_table['interval'] = pd.to_datetime(interval_index_table['interval']).dt.time"
   ]
  },
  {
   "cell_type": "code",
   "execution_count": 10,
   "metadata": {},
   "outputs": [],
   "source": [
    "delta_t = 15\n",
    "round_by = '{}min'.format(delta_t)\n",
    "episode_data['pickup_datetime_interval'] = episode_data['pickup_datetime'].dt.round(round_by).dt.time\n",
    "episode_data['dropoff_datetime_interval'] = episode_data['dropoff_datetime'].dt.round(round_by).dt.time\n",
    "\n",
    "## convert DO interval to time index\n",
    "current_conversion = dict(zip(interval_index_table.interval, interval_index_table[f'time_index_{delta_t}m']))\n",
    "episode_data['pickup_datetime_index'] = [current_conversion[t] for t in episode_data['pickup_datetime_interval']]\n",
    "episode_data['dropoff_datetime_index'] = [current_conversion[t] for t in episode_data['dropoff_datetime_interval']]"
   ]
  },
  {
   "cell_type": "markdown",
   "metadata": {},
   "source": [
    "## Collapse Immediate trips into one \n",
    "\n",
    "trips/transition must collaspe if current action = 0 and there is immediate transition after the current state"
   ]
  },
  {
   "cell_type": "code",
   "execution_count": 11,
   "metadata": {},
   "outputs": [],
   "source": [
    "## action that bring from current row to before the transition of the next row\n",
    "episode_data['pickup_taxizone_id_next'] = episode_data.groupby(['episode'])['pickup_taxizone_id'].shift(-1)\n",
    "episode_data['action'] = np.where(episode_data['dropoff_taxizone_id']  == episode_data['pickup_taxizone_id_next'], \n",
    "                                  0, episode_data['pickup_taxizone_id_next'])\n",
    "\n",
    "## finished = if the row is the last sub-transition of a transition (whether there is immediate transition after)\n",
    "episode_data['pickup_datetime_index_next'] = episode_data.groupby(['episode'])['pickup_datetime_index'].shift(-1)\n",
    "episode_data['same_time_interval'] = np.where(episode_data['pickup_datetime_index_next']  == episode_data['dropoff_datetime_index'], \n",
    "                                  1, 0)\n",
    "episode_data['finished'] = np.where((episode_data['same_time_interval']==1) & (episode_data['action']==0), \n",
    "                                  np.nan, 1)"
   ]
  },
  {
   "cell_type": "code",
   "execution_count": 12,
   "metadata": {},
   "outputs": [],
   "source": [
    "episode_data['state_loc'] = episode_data['dropoff_taxizone_id']\n",
    "episode_data['state_time'] = episode_data['dropoff_datetime_index']\n",
    "episode_data.dropna(subset=['finished'], inplace=True)"
   ]
  },
  {
   "cell_type": "markdown",
   "metadata": {},
   "source": [
    "## Cast type"
   ]
  },
  {
   "cell_type": "code",
   "execution_count": 13,
   "metadata": {},
   "outputs": [],
   "source": [
    "episode_data = episode_data.astype({'state_loc': 'Int64',\n",
    "                                   'state_time': 'Int64',\n",
    "                                   'action': 'Int64',\n",
    "                                   'episode': 'Int64'})"
   ]
  },
  {
   "cell_type": "markdown",
   "metadata": {},
   "source": [
    "## Keep only relevant columns\n",
    "* state_loc = current location\n",
    "* state_time = current time index\n",
    "* action = next action to take \n",
    "* total_amount = current reward (the previous reward before the R in SARSA)"
   ]
  },
  {
   "cell_type": "code",
   "execution_count": 14,
   "metadata": {},
   "outputs": [],
   "source": [
    "# pd.set_option('max_rows', None)\n",
    "# episode_data"
   ]
  },
  {
   "cell_type": "code",
   "execution_count": 15,
   "metadata": {},
   "outputs": [],
   "source": [
    "episode_data['state_loc_next'] = episode_data.groupby('episode')['state_loc'].shift(-1)\n",
    "episode_data['state_time_next'] = episode_data.groupby('episode')['state_time'].shift(-1)\n",
    "episode_data['reward'] = episode_data.groupby('episode')['total_amount'].shift(-1)\n",
    "episode_data['acion_next'] = episode_data.groupby('episode')['action'].shift(-1)\n",
    "\n",
    "episode_data['state'] = [(z, t) for z, t in zip(episode_data['state_loc'], episode_data['state_time'])]\n",
    "episode_data['state_next'] = [(z, t) for z, t in zip(episode_data['state_loc_next'], episode_data['state_time_next'])]"
   ]
  },
  {
   "cell_type": "code",
   "execution_count": 16,
   "metadata": {},
   "outputs": [],
   "source": [
    "episode_data = episode_data[['episode', 'state', 'action', 'reward', 'state_next', 'acion_next']]"
   ]
  },
  {
   "cell_type": "code",
   "execution_count": 17,
   "metadata": {},
   "outputs": [],
   "source": [
    "episode_data.dropna(subset=['action'], inplace=True)"
   ]
  },
  {
   "cell_type": "code",
   "execution_count": 21,
   "metadata": {},
   "outputs": [
    {
     "data": {
      "text/html": [
       "<div>\n",
       "<style scoped>\n",
       "    .dataframe tbody tr th:only-of-type {\n",
       "        vertical-align: middle;\n",
       "    }\n",
       "\n",
       "    .dataframe tbody tr th {\n",
       "        vertical-align: top;\n",
       "    }\n",
       "\n",
       "    .dataframe thead th {\n",
       "        text-align: right;\n",
       "    }\n",
       "</style>\n",
       "<table border=\"1\" class=\"dataframe\">\n",
       "  <thead>\n",
       "    <tr style=\"text-align: right;\">\n",
       "      <th></th>\n",
       "      <th>episode</th>\n",
       "      <th>state</th>\n",
       "      <th>action</th>\n",
       "      <th>reward</th>\n",
       "      <th>state_next</th>\n",
       "      <th>acion_next</th>\n",
       "    </tr>\n",
       "  </thead>\n",
       "  <tbody>\n",
       "    <tr>\n",
       "      <th>9</th>\n",
       "      <td>8</td>\n",
       "      <td>(229, 71)</td>\n",
       "      <td>233</td>\n",
       "      <td>9.25</td>\n",
       "      <td>(229, 72)</td>\n",
       "      <td>233</td>\n",
       "    </tr>\n",
       "    <tr>\n",
       "      <th>10</th>\n",
       "      <td>8</td>\n",
       "      <td>(229, 72)</td>\n",
       "      <td>233</td>\n",
       "      <td>13.50</td>\n",
       "      <td>(262, 74)</td>\n",
       "      <td>233</td>\n",
       "    </tr>\n",
       "    <tr>\n",
       "      <th>11</th>\n",
       "      <td>8</td>\n",
       "      <td>(262, 74)</td>\n",
       "      <td>233</td>\n",
       "      <td>23.00</td>\n",
       "      <td>(114, 75)</td>\n",
       "      <td>0</td>\n",
       "    </tr>\n",
       "    <tr>\n",
       "      <th>12</th>\n",
       "      <td>8</td>\n",
       "      <td>(114, 75)</td>\n",
       "      <td>0</td>\n",
       "      <td>17.50</td>\n",
       "      <td>(166, 78)</td>\n",
       "      <td>151</td>\n",
       "    </tr>\n",
       "    <tr>\n",
       "      <th>14</th>\n",
       "      <td>8</td>\n",
       "      <td>(166, 78)</td>\n",
       "      <td>151</td>\n",
       "      <td>7.00</td>\n",
       "      <td>(238, 79)</td>\n",
       "      <td>142</td>\n",
       "    </tr>\n",
       "    <tr>\n",
       "      <th>15</th>\n",
       "      <td>8</td>\n",
       "      <td>(238, 79)</td>\n",
       "      <td>142</td>\n",
       "      <td>10.00</td>\n",
       "      <td>(238, 81)</td>\n",
       "      <td>142</td>\n",
       "    </tr>\n",
       "    <tr>\n",
       "      <th>16</th>\n",
       "      <td>8</td>\n",
       "      <td>(238, 81)</td>\n",
       "      <td>142</td>\n",
       "      <td>18.00</td>\n",
       "      <td>(137, 83)</td>\n",
       "      <td>0</td>\n",
       "    </tr>\n",
       "    <tr>\n",
       "      <th>17</th>\n",
       "      <td>8</td>\n",
       "      <td>(137, 83)</td>\n",
       "      <td>0</td>\n",
       "      <td>11.00</td>\n",
       "      <td>(263, 84)</td>\n",
       "      <td>162</td>\n",
       "    </tr>\n",
       "    <tr>\n",
       "      <th>18</th>\n",
       "      <td>8</td>\n",
       "      <td>(263, 84)</td>\n",
       "      <td>162</td>\n",
       "      <td>9.50</td>\n",
       "      <td>(141, 86)</td>\n",
       "      <td>162</td>\n",
       "    </tr>\n",
       "    <tr>\n",
       "      <th>19</th>\n",
       "      <td>8</td>\n",
       "      <td>(141, 86)</td>\n",
       "      <td>162</td>\n",
       "      <td>13.10</td>\n",
       "      <td>(79, 87)</td>\n",
       "      <td>107</td>\n",
       "    </tr>\n",
       "    <tr>\n",
       "      <th>20</th>\n",
       "      <td>8</td>\n",
       "      <td>(79, 87)</td>\n",
       "      <td>107</td>\n",
       "      <td>24.00</td>\n",
       "      <td>(151, 89)</td>\n",
       "      <td>142</td>\n",
       "    </tr>\n",
       "    <tr>\n",
       "      <th>21</th>\n",
       "      <td>8</td>\n",
       "      <td>(151, 89)</td>\n",
       "      <td>142</td>\n",
       "      <td>9.88</td>\n",
       "      <td>(50, 90)</td>\n",
       "      <td>48</td>\n",
       "    </tr>\n",
       "    <tr>\n",
       "      <th>22</th>\n",
       "      <td>8</td>\n",
       "      <td>(50, 90)</td>\n",
       "      <td>48</td>\n",
       "      <td>8.00</td>\n",
       "      <td>(161, 91)</td>\n",
       "      <td>162</td>\n",
       "    </tr>\n",
       "    <tr>\n",
       "      <th>23</th>\n",
       "      <td>8</td>\n",
       "      <td>(161, 91)</td>\n",
       "      <td>162</td>\n",
       "      <td>28.50</td>\n",
       "      <td>(189, 94)</td>\n",
       "      <td>107</td>\n",
       "    </tr>\n",
       "    <tr>\n",
       "      <th>24</th>\n",
       "      <td>8</td>\n",
       "      <td>(189, 94)</td>\n",
       "      <td>107</td>\n",
       "      <td>22.70</td>\n",
       "      <td>(142, 3)</td>\n",
       "      <td>NaN</td>\n",
       "    </tr>\n",
       "    <tr>\n",
       "      <th>27</th>\n",
       "      <td>27</td>\n",
       "      <td>(141, 70)</td>\n",
       "      <td>237</td>\n",
       "      <td>9.00</td>\n",
       "      <td>(162, 71)</td>\n",
       "      <td>237</td>\n",
       "    </tr>\n",
       "    <tr>\n",
       "      <th>28</th>\n",
       "      <td>27</td>\n",
       "      <td>(162, 71)</td>\n",
       "      <td>237</td>\n",
       "      <td>11.30</td>\n",
       "      <td>(230, 71)</td>\n",
       "      <td>48</td>\n",
       "    </tr>\n",
       "    <tr>\n",
       "      <th>29</th>\n",
       "      <td>27</td>\n",
       "      <td>(230, 71)</td>\n",
       "      <td>48</td>\n",
       "      <td>8.90</td>\n",
       "      <td>(137, 73)</td>\n",
       "      <td>170</td>\n",
       "    </tr>\n",
       "    <tr>\n",
       "      <th>31</th>\n",
       "      <td>27</td>\n",
       "      <td>(137, 73)</td>\n",
       "      <td>170</td>\n",
       "      <td>8.00</td>\n",
       "      <td>(43, 76)</td>\n",
       "      <td>263</td>\n",
       "    </tr>\n",
       "    <tr>\n",
       "      <th>33</th>\n",
       "      <td>27</td>\n",
       "      <td>(43, 76)</td>\n",
       "      <td>263</td>\n",
       "      <td>10.50</td>\n",
       "      <td>(233, 78)</td>\n",
       "      <td>230</td>\n",
       "    </tr>\n",
       "    <tr>\n",
       "      <th>36</th>\n",
       "      <td>27</td>\n",
       "      <td>(233, 78)</td>\n",
       "      <td>230</td>\n",
       "      <td>6.00</td>\n",
       "      <td>(143, 79)</td>\n",
       "      <td>0</td>\n",
       "    </tr>\n",
       "    <tr>\n",
       "      <th>38</th>\n",
       "      <td>27</td>\n",
       "      <td>(143, 79)</td>\n",
       "      <td>0</td>\n",
       "      <td>9.50</td>\n",
       "      <td>(79, 82)</td>\n",
       "      <td>170</td>\n",
       "    </tr>\n",
       "    <tr>\n",
       "      <th>40</th>\n",
       "      <td>27</td>\n",
       "      <td>(79, 82)</td>\n",
       "      <td>170</td>\n",
       "      <td>25.50</td>\n",
       "      <td>(33, 89)</td>\n",
       "      <td>66</td>\n",
       "    </tr>\n",
       "    <tr>\n",
       "      <th>45</th>\n",
       "      <td>27</td>\n",
       "      <td>(33, 89)</td>\n",
       "      <td>66</td>\n",
       "      <td>6.50</td>\n",
       "      <td>(140, 91)</td>\n",
       "      <td>262</td>\n",
       "    </tr>\n",
       "    <tr>\n",
       "      <th>47</th>\n",
       "      <td>27</td>\n",
       "      <td>(140, 91)</td>\n",
       "      <td>262</td>\n",
       "      <td>8.00</td>\n",
       "      <td>(164, 93)</td>\n",
       "      <td>68</td>\n",
       "    </tr>\n",
       "    <tr>\n",
       "      <th>49</th>\n",
       "      <td>27</td>\n",
       "      <td>(164, 93)</td>\n",
       "      <td>68</td>\n",
       "      <td>13.50</td>\n",
       "      <td>(239, 0)</td>\n",
       "      <td>142</td>\n",
       "    </tr>\n",
       "    <tr>\n",
       "      <th>50</th>\n",
       "      <td>27</td>\n",
       "      <td>(239, 0)</td>\n",
       "      <td>142</td>\n",
       "      <td>11.50</td>\n",
       "      <td>(140, 1)</td>\n",
       "      <td>229</td>\n",
       "    </tr>\n",
       "    <tr>\n",
       "      <th>51</th>\n",
       "      <td>27</td>\n",
       "      <td>(140, 1)</td>\n",
       "      <td>229</td>\n",
       "      <td>11.55</td>\n",
       "      <td>(263, 2)</td>\n",
       "      <td>170</td>\n",
       "    </tr>\n",
       "    <tr>\n",
       "      <th>52</th>\n",
       "      <td>27</td>\n",
       "      <td>(263, 2)</td>\n",
       "      <td>170</td>\n",
       "      <td>11.50</td>\n",
       "      <td>(263, 4)</td>\n",
       "      <td>262</td>\n",
       "    </tr>\n",
       "    <tr>\n",
       "      <th>53</th>\n",
       "      <td>27</td>\n",
       "      <td>(263, 4)</td>\n",
       "      <td>262</td>\n",
       "      <td>5.50</td>\n",
       "      <td>(263, 4)</td>\n",
       "      <td>0</td>\n",
       "    </tr>\n",
       "  </tbody>\n",
       "</table>\n",
       "</div>"
      ],
      "text/plain": [
       "    episode      state  action  reward state_next  acion_next\n",
       "9         8  (229, 71)     233    9.25  (229, 72)         233\n",
       "10        8  (229, 72)     233   13.50  (262, 74)         233\n",
       "11        8  (262, 74)     233   23.00  (114, 75)           0\n",
       "12        8  (114, 75)       0   17.50  (166, 78)         151\n",
       "14        8  (166, 78)     151    7.00  (238, 79)         142\n",
       "15        8  (238, 79)     142   10.00  (238, 81)         142\n",
       "16        8  (238, 81)     142   18.00  (137, 83)           0\n",
       "17        8  (137, 83)       0   11.00  (263, 84)         162\n",
       "18        8  (263, 84)     162    9.50  (141, 86)         162\n",
       "19        8  (141, 86)     162   13.10   (79, 87)         107\n",
       "20        8   (79, 87)     107   24.00  (151, 89)         142\n",
       "21        8  (151, 89)     142    9.88   (50, 90)          48\n",
       "22        8   (50, 90)      48    8.00  (161, 91)         162\n",
       "23        8  (161, 91)     162   28.50  (189, 94)         107\n",
       "24        8  (189, 94)     107   22.70   (142, 3)         NaN\n",
       "27       27  (141, 70)     237    9.00  (162, 71)         237\n",
       "28       27  (162, 71)     237   11.30  (230, 71)          48\n",
       "29       27  (230, 71)      48    8.90  (137, 73)         170\n",
       "31       27  (137, 73)     170    8.00   (43, 76)         263\n",
       "33       27   (43, 76)     263   10.50  (233, 78)         230\n",
       "36       27  (233, 78)     230    6.00  (143, 79)           0\n",
       "38       27  (143, 79)       0    9.50   (79, 82)         170\n",
       "40       27   (79, 82)     170   25.50   (33, 89)          66\n",
       "45       27   (33, 89)      66    6.50  (140, 91)         262\n",
       "47       27  (140, 91)     262    8.00  (164, 93)          68\n",
       "49       27  (164, 93)      68   13.50   (239, 0)         142\n",
       "50       27   (239, 0)     142   11.50   (140, 1)         229\n",
       "51       27   (140, 1)     229   11.55   (263, 2)         170\n",
       "52       27   (263, 2)     170   11.50   (263, 4)         262\n",
       "53       27   (263, 4)     262    5.50   (263, 4)           0"
      ]
     },
     "execution_count": 21,
     "metadata": {},
     "output_type": "execute_result"
    }
   ],
   "source": [
    "episode_data.head(30)"
   ]
  },
  {
   "cell_type": "code",
   "execution_count": 22,
   "metadata": {},
   "outputs": [
    {
     "data": {
      "text/plain": [
       "(8620885, 6)"
      ]
     },
     "execution_count": 22,
     "metadata": {},
     "output_type": "execute_result"
    }
   ],
   "source": [
    "episode_data.shape"
   ]
  },
  {
   "cell_type": "code",
   "execution_count": 23,
   "metadata": {},
   "outputs": [],
   "source": [
    "# import pickle\n",
    "# with open('../data/SARSA_eps.pickle', 'wb') as handle:\n",
    "#     pickle.dump(episode_data, handle)\n",
    "\n",
    "# ## For interpretable read. Suffering data loss.\n",
    "# episode_data.to_csv('../data/SARSA_eps.csv', index=False)"
   ]
  },
  {
   "cell_type": "code",
   "execution_count": 20,
   "metadata": {},
   "outputs": [],
   "source": [
    "## load pickle\n",
    "# with open('../data/historical_for_SARSA.pickle', 'rb') as handle:\n",
    "#     episode_data = pickle.load(handle)"
   ]
  }
 ],
 "metadata": {
  "kernelspec": {
   "display_name": "Python 3",
   "language": "python",
   "name": "python3"
  },
  "language_info": {
   "codemirror_mode": {
    "name": "ipython",
    "version": 3
   },
   "file_extension": ".py",
   "mimetype": "text/x-python",
   "name": "python",
   "nbconvert_exporter": "python",
   "pygments_lexer": "ipython3",
   "version": "3.7.3"
  }
 },
 "nbformat": 4,
 "nbformat_minor": 2
}
