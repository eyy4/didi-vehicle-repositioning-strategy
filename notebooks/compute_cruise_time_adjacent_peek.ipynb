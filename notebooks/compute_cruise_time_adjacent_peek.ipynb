{
 "cells": [
  {
   "cell_type": "markdown",
   "metadata": {},
   "source": [
    "## Impute cruise time data using neighboring historical cruise time\n",
    "\n",
    "At time interval t, if a taxi zone z does not have cruise time data, we look for cruise time data of adjacent taxi zones to z. The average of those adjacent value is used as a cruise time of zone z at time interval t."
   ]
  },
  {
   "cell_type": "code",
   "execution_count": 1,
   "metadata": {},
   "outputs": [],
   "source": [
    "import pandas as pd\n",
    "import matplotlib.pyplot as plt\n",
    "import numpy as np\n",
    "import seaborn as sns"
   ]
  },
  {
   "cell_type": "code",
   "execution_count": 4,
   "metadata": {},
   "outputs": [],
   "source": [
    "def impute_from_adjacent_zones(cruise_time_df, adjacent_zone, cruise_time_col, time_interval):\n",
    "    \n",
    "    ## pivot\n",
    "    cruise_df_imputed = cruise_time_df.pivot_table(index='dropoff_datetime_index', \n",
    "                                   columns='taxizone_id', \n",
    "                                   values=cruise_time_col).copy()\n",
    "\n",
    "    ## at each time interval, loop through each of the zone and find its adjacent\n",
    "    ## if its cruise time is NaN\n",
    "    taxi_zone_list = list(cruise_df_imputed.columns)\n",
    "    timestamp_list = list(cruise_df_imputed.index)\n",
    "    for t in timestamp_list:\n",
    "        for z in taxi_zone_list:\n",
    "            adjacent_list = np.array(adjacent_zone.loc[adjacent_zone['zone1'] == z]['zone2'])\n",
    "            try:\n",
    "                if np.isnan(cruise_df_imputed.loc[t, z]):\n",
    "                    cruise_df_imputed.loc[t, z] = np.mean(cruise_df_imputed.loc[t, adjacent_list])\n",
    "            except:\n",
    "                pass\n",
    "    ## unpivot\n",
    "    cruise_df_imputed = cruise_df_imputed.stack().reset_index(name=cruise_time_col)\n",
    "    \n",
    "    ## compute interval from the imputed cruise time\n",
    "    cruise_df_imputed[cruise_time_col + '_INT'] = [t//time_interval for t in cruise_df_imputed[cruise_time_col]]\n",
    "    return cruise_df_imputed"
   ]
  },
  {
   "cell_type": "code",
   "execution_count": 3,
   "metadata": {},
   "outputs": [
    {
     "name": "stderr",
     "output_type": "stream",
     "text": [
      "//anaconda3/lib/python3.7/site-packages/pandas/core/indexing.py:961: FutureWarning: \n",
      "Passing list-likes to .loc or [] with any missing label will raise\n",
      "KeyError in the future, you can use .reindex() as an alternative.\n",
      "\n",
      "See the documentation here:\n",
      "https://pandas.pydata.org/pandas-docs/stable/user_guide/indexing.html#deprecate-loc-reindex-listlike\n",
      "  return getattr(section, self.name)[new_key]\n"
     ]
    },
    {
     "name": "stdout",
     "output_type": "stream",
     "text": [
      "saved at  ../data/cruise_time_1m_imputed.csv\n",
      "saved at  ../data/cruise_time_5m_imputed.csv\n",
      "saved at  ../data/cruise_time_10m_imputed.csv\n",
      "saved at  ../data/cruise_time_15m_imputed.csv\n",
      "saved at  ../data/cruise_time_30m_imputed.csv\n",
      "saved at  ../data/cruise_time_60m_imputed.csv\n"
     ]
    }
   ],
   "source": [
    "adjacent_zone = pd.read_csv('../data/adjacent_zone.csv')\n",
    "time_interval_list = [60, 30, 15, 10, 5, 1]\n",
    "for it in time_interval_list:\n",
    "    current_cruise_time_df = pd.read_csv('../data/cruise_time_{}m.csv'.format(int(it)))\n",
    "    current_cruise_time_df = current_cruise_time_df.astype({'dropoff_datetime_index': 'int32'})\n",
    "    \n",
    "    cruise_imputed = impute_from_adjacent_zones(current_cruise_time_df,\n",
    "                                                adjacent_zone, \n",
    "                                                'med_cruise_time', it)\n",
    "    saved_path = '../data/cruise_time_imputed_{}m.csv'.format(int(it))\n",
    "    cruise_imputed.to_csv(saved_path, index=False)\n",
    "    print('saved at ', saved_path)"
   ]
  },
  {
   "cell_type": "code",
   "execution_count": null,
   "metadata": {},
   "outputs": [],
   "source": []
  }
 ],
 "metadata": {
  "kernelspec": {
   "display_name": "Python 3",
   "language": "python",
   "name": "python3"
  },
  "language_info": {
   "codemirror_mode": {
    "name": "ipython",
    "version": 3
   },
   "file_extension": ".py",
   "mimetype": "text/x-python",
   "name": "python",
   "nbconvert_exporter": "python",
   "pygments_lexer": "ipython3",
   "version": "3.7.3"
  }
 },
 "nbformat": 4,
 "nbformat_minor": 2
}
