{
 "cells": [
  {
   "cell_type": "code",
   "execution_count": 25,
   "metadata": {},
   "outputs": [],
   "source": [
    "import pandas as pd\n",
    "import numpy as np\n",
    "import scipy.sparse"
   ]
  },
  {
   "cell_type": "code",
   "execution_count": 26,
   "metadata": {},
   "outputs": [],
   "source": [
    "df_1 = pd.read_csv('../data/fare_amount_src_dst_t_1.csv')\n",
    "df_5 = pd.read_csv('../data/fare_amount_src_dst_t_5.csv')\n",
    "df_10 = pd.read_csv('../data/fare_amount_src_dst_t_10.csv')\n",
    "df_15 = pd.read_csv('../data/fare_amount_src_dst_t_15.csv')"
   ]
  },
  {
   "cell_type": "code",
   "execution_count": 27,
   "metadata": {},
   "outputs": [
    {
     "data": {
      "text/html": [
       "<div>\n",
       "<style scoped>\n",
       "    .dataframe tbody tr th:only-of-type {\n",
       "        vertical-align: middle;\n",
       "    }\n",
       "\n",
       "    .dataframe tbody tr th {\n",
       "        vertical-align: top;\n",
       "    }\n",
       "\n",
       "    .dataframe thead th {\n",
       "        text-align: right;\n",
       "    }\n",
       "</style>\n",
       "<table border=\"1\" class=\"dataframe\">\n",
       "  <thead>\n",
       "    <tr style=\"text-align: right;\">\n",
       "      <th></th>\n",
       "      <th>pickup_datetime_index</th>\n",
       "      <th>pickup_datetime_interval</th>\n",
       "      <th>pickup_taxizone_id</th>\n",
       "      <th>dropoff_taxizone_id</th>\n",
       "      <th>mean</th>\n",
       "      <th>median</th>\n",
       "      <th>count</th>\n",
       "    </tr>\n",
       "  </thead>\n",
       "  <tbody>\n",
       "    <tr>\n",
       "      <th>0</th>\n",
       "      <td>0</td>\n",
       "      <td>00:00:00</td>\n",
       "      <td>2.0</td>\n",
       "      <td>2.0</td>\n",
       "      <td>15.0</td>\n",
       "      <td>15.0</td>\n",
       "      <td>1</td>\n",
       "    </tr>\n",
       "    <tr>\n",
       "      <th>1</th>\n",
       "      <td>0</td>\n",
       "      <td>00:00:00</td>\n",
       "      <td>3.0</td>\n",
       "      <td>69.0</td>\n",
       "      <td>24.5</td>\n",
       "      <td>24.5</td>\n",
       "      <td>1</td>\n",
       "    </tr>\n",
       "    <tr>\n",
       "      <th>2</th>\n",
       "      <td>0</td>\n",
       "      <td>00:00:00</td>\n",
       "      <td>4.0</td>\n",
       "      <td>4.0</td>\n",
       "      <td>3.5</td>\n",
       "      <td>3.5</td>\n",
       "      <td>1</td>\n",
       "    </tr>\n",
       "    <tr>\n",
       "      <th>3</th>\n",
       "      <td>0</td>\n",
       "      <td>00:00:00</td>\n",
       "      <td>4.0</td>\n",
       "      <td>33.0</td>\n",
       "      <td>19.5</td>\n",
       "      <td>19.5</td>\n",
       "      <td>2</td>\n",
       "    </tr>\n",
       "    <tr>\n",
       "      <th>4</th>\n",
       "      <td>0</td>\n",
       "      <td>00:00:00</td>\n",
       "      <td>4.0</td>\n",
       "      <td>41.0</td>\n",
       "      <td>22.0</td>\n",
       "      <td>22.0</td>\n",
       "      <td>1</td>\n",
       "    </tr>\n",
       "  </tbody>\n",
       "</table>\n",
       "</div>"
      ],
      "text/plain": [
       "   pickup_datetime_index pickup_datetime_interval  pickup_taxizone_id  \\\n",
       "0                      0                 00:00:00                 2.0   \n",
       "1                      0                 00:00:00                 3.0   \n",
       "2                      0                 00:00:00                 4.0   \n",
       "3                      0                 00:00:00                 4.0   \n",
       "4                      0                 00:00:00                 4.0   \n",
       "\n",
       "   dropoff_taxizone_id  mean  median  count  \n",
       "0                  2.0  15.0    15.0      1  \n",
       "1                 69.0  24.5    24.5      1  \n",
       "2                  4.0   3.5     3.5      1  \n",
       "3                 33.0  19.5    19.5      2  \n",
       "4                 41.0  22.0    22.0      1  "
      ]
     },
     "execution_count": 27,
     "metadata": {},
     "output_type": "execute_result"
    }
   ],
   "source": [
    "df_1.head()"
   ]
  },
  {
   "cell_type": "code",
   "execution_count": 28,
   "metadata": {},
   "outputs": [],
   "source": [
    "#create Marcov Chain Transition matrix with counts\n",
    "\n",
    "def create_MC_mtx(df):\n",
    "    # Marcov Chain Transition matrix with counts\n",
    "    zone_num = 263\n",
    "    mc_mtx = np.zeros((int(max(df['pickup_datetime_index']))+1, zone_num, zone_num))\n",
    "    for i in range(len(df)):\n",
    "        t = df['pickup_datetime_index'][i]\n",
    "        pickup = int(df['pickup_taxizone_id'][i]) -1\n",
    "        dropoff = int(df['dropoff_taxizone_id'][i]) -1\n",
    "        mc_mtx[t, pickup, dropoff] = df['count'][i]   \n",
    "\n",
    "    # convert counts to probability\n",
    "    mc_mtx_prob = np.zeros((int(max(df['pickup_datetime_index']))+1, zone_num, zone_num))\n",
    "    for i in range(mc_mtx.shape[0]):\n",
    "        mc_mtx_prob[i] = mc_mtx[i]/np.sum(mc_mtx[i], axis = 1).reshape(zone_num, 1)\n",
    "    mc_mtx_prob = np.nan_to_num(mc_mtx_prob)\n",
    "    \n",
    "    return mc_mtx_prob"
   ]
  },
  {
   "cell_type": "code",
   "execution_count": 19,
   "metadata": {},
   "outputs": [
    {
     "name": "stderr",
     "output_type": "stream",
     "text": [
      "C:\\Users\\stell\\Anaconda3\\lib\\site-packages\\ipykernel_launcher.py:16: RuntimeWarning: invalid value encountered in true_divide\n",
      "  app.launch_new_instance()\n"
     ]
    }
   ],
   "source": [
    "mc_mtx_prob_1 = create_MC_mtx(df_1)\n",
    "mc_mtx_prob_5 = create_MC_mtx(df_5)\n",
    "mc_mtx_prob_10 = create_MC_mtx(df_10)\n",
    "mc_mtx_prob_15 = create_MC_mtx(df_15)"
   ]
  },
  {
   "cell_type": "code",
   "execution_count": 30,
   "metadata": {},
   "outputs": [
    {
     "data": {
      "text/html": [
       "<div>\n",
       "<style scoped>\n",
       "    .dataframe tbody tr th:only-of-type {\n",
       "        vertical-align: middle;\n",
       "    }\n",
       "\n",
       "    .dataframe tbody tr th {\n",
       "        vertical-align: top;\n",
       "    }\n",
       "\n",
       "    .dataframe thead th {\n",
       "        text-align: right;\n",
       "    }\n",
       "</style>\n",
       "<table border=\"1\" class=\"dataframe\">\n",
       "  <thead>\n",
       "    <tr style=\"text-align: right;\">\n",
       "      <th></th>\n",
       "      <th>pickup_datetime_index</th>\n",
       "      <th>pickup_datetime_interval</th>\n",
       "      <th>pickup_taxizone_id</th>\n",
       "      <th>dropoff_taxizone_id</th>\n",
       "      <th>mean</th>\n",
       "      <th>median</th>\n",
       "      <th>count</th>\n",
       "    </tr>\n",
       "  </thead>\n",
       "  <tbody>\n",
       "    <tr>\n",
       "      <th>266288</th>\n",
       "      <td>33</td>\n",
       "      <td>08:15:00</td>\n",
       "      <td>217.0</td>\n",
       "      <td>61.0</td>\n",
       "      <td>9.0</td>\n",
       "      <td>9.0</td>\n",
       "      <td>1</td>\n",
       "    </tr>\n",
       "    <tr>\n",
       "      <th>266289</th>\n",
       "      <td>33</td>\n",
       "      <td>08:15:00</td>\n",
       "      <td>217.0</td>\n",
       "      <td>80.0</td>\n",
       "      <td>4.0</td>\n",
       "      <td>4.0</td>\n",
       "      <td>1</td>\n",
       "    </tr>\n",
       "    <tr>\n",
       "      <th>266290</th>\n",
       "      <td>33</td>\n",
       "      <td>08:15:00</td>\n",
       "      <td>217.0</td>\n",
       "      <td>97.0</td>\n",
       "      <td>11.0</td>\n",
       "      <td>11.0</td>\n",
       "      <td>1</td>\n",
       "    </tr>\n",
       "    <tr>\n",
       "      <th>266291</th>\n",
       "      <td>33</td>\n",
       "      <td>08:15:00</td>\n",
       "      <td>217.0</td>\n",
       "      <td>107.0</td>\n",
       "      <td>13.0</td>\n",
       "      <td>13.0</td>\n",
       "      <td>1</td>\n",
       "    </tr>\n",
       "  </tbody>\n",
       "</table>\n",
       "</div>"
      ],
      "text/plain": [
       "        pickup_datetime_index pickup_datetime_interval  pickup_taxizone_id  \\\n",
       "266288                     33                 08:15:00               217.0   \n",
       "266289                     33                 08:15:00               217.0   \n",
       "266290                     33                 08:15:00               217.0   \n",
       "266291                     33                 08:15:00               217.0   \n",
       "\n",
       "        dropoff_taxizone_id  mean  median  count  \n",
       "266288                 61.0   9.0     9.0      1  \n",
       "266289                 80.0   4.0     4.0      1  \n",
       "266290                 97.0  11.0    11.0      1  \n",
       "266291                107.0  13.0    13.0      1  "
      ]
     },
     "execution_count": 30,
     "metadata": {},
     "output_type": "execute_result"
    }
   ],
   "source": [
    "#check\n",
    "df_15.loc[((df['pickup_taxizone_id'] == 217) & (df['pickup_datetime_index'] ==33)),:]"
   ]
  },
  {
   "cell_type": "code",
   "execution_count": 31,
   "metadata": {},
   "outputs": [
    {
     "data": {
      "text/plain": [
       "array([0.  , 0.  , 0.  , 0.  , 0.  , 0.  , 0.  , 0.  , 0.  , 0.  , 0.  ,\n",
       "       0.  , 0.  , 0.  , 0.  , 0.  , 0.  , 0.  , 0.  , 0.  , 0.  , 0.  ,\n",
       "       0.  , 0.  , 0.  , 0.  , 0.  , 0.  , 0.  , 0.  , 0.  , 0.  , 0.  ,\n",
       "       0.  , 0.  , 0.  , 0.  , 0.  , 0.  , 0.  , 0.  , 0.  , 0.  , 0.  ,\n",
       "       0.  , 0.  , 0.  , 0.  , 0.  , 0.  , 0.  , 0.  , 0.  , 0.  , 0.  ,\n",
       "       0.  , 0.  , 0.  , 0.  , 0.  , 0.25, 0.  , 0.  , 0.  , 0.  , 0.  ,\n",
       "       0.  , 0.  , 0.  , 0.  , 0.  , 0.  , 0.  , 0.  , 0.  , 0.  , 0.  ,\n",
       "       0.  , 0.  , 0.25, 0.  , 0.  , 0.  , 0.  , 0.  , 0.  , 0.  , 0.  ,\n",
       "       0.  , 0.  , 0.  , 0.  , 0.  , 0.  , 0.  , 0.  , 0.25, 0.  , 0.  ,\n",
       "       0.  , 0.  , 0.  , 0.  , 0.  , 0.  , 0.  , 0.25, 0.  , 0.  , 0.  ,\n",
       "       0.  , 0.  , 0.  , 0.  , 0.  , 0.  , 0.  , 0.  , 0.  , 0.  , 0.  ,\n",
       "       0.  , 0.  , 0.  , 0.  , 0.  , 0.  , 0.  , 0.  , 0.  , 0.  , 0.  ,\n",
       "       0.  , 0.  , 0.  , 0.  , 0.  , 0.  , 0.  , 0.  , 0.  , 0.  , 0.  ,\n",
       "       0.  , 0.  , 0.  , 0.  , 0.  , 0.  , 0.  , 0.  , 0.  , 0.  , 0.  ,\n",
       "       0.  , 0.  , 0.  , 0.  , 0.  , 0.  , 0.  , 0.  , 0.  , 0.  , 0.  ,\n",
       "       0.  , 0.  , 0.  , 0.  , 0.  , 0.  , 0.  , 0.  , 0.  , 0.  , 0.  ,\n",
       "       0.  , 0.  , 0.  , 0.  , 0.  , 0.  , 0.  , 0.  , 0.  , 0.  , 0.  ,\n",
       "       0.  , 0.  , 0.  , 0.  , 0.  , 0.  , 0.  , 0.  , 0.  , 0.  , 0.  ,\n",
       "       0.  , 0.  , 0.  , 0.  , 0.  , 0.  , 0.  , 0.  , 0.  , 0.  , 0.  ,\n",
       "       0.  , 0.  , 0.  , 0.  , 0.  , 0.  , 0.  , 0.  , 0.  , 0.  , 0.  ,\n",
       "       0.  , 0.  , 0.  , 0.  , 0.  , 0.  , 0.  , 0.  , 0.  , 0.  , 0.  ,\n",
       "       0.  , 0.  , 0.  , 0.  , 0.  , 0.  , 0.  , 0.  , 0.  , 0.  , 0.  ,\n",
       "       0.  , 0.  , 0.  , 0.  , 0.  , 0.  , 0.  , 0.  , 0.  , 0.  , 0.  ,\n",
       "       0.  , 0.  , 0.  , 0.  , 0.  , 0.  , 0.  , 0.  , 0.  , 0.  ])"
      ]
     },
     "execution_count": 31,
     "metadata": {},
     "output_type": "execute_result"
    }
   ],
   "source": [
    "mc_mtx_prob_15[33,216,:]"
   ]
  },
  {
   "cell_type": "code",
   "execution_count": 52,
   "metadata": {},
   "outputs": [],
   "source": [
    "# saving reshaped array to file. \n",
    "mc_mtx_prob_1_reshaped = mc_mtx_prob_1.reshape(mc_mtx_prob_1.shape[0], -1) \n",
    "mc_mtx_prob_1_compressed = scipy.sparse.csc_matrix(np.array(mc_mtx_prob_1_reshaped))\n",
    "scipy.sparse.save_npz('../data/mc_mtx_1.npz', mc_mtx_prob_1_compressed)\n",
    "\n",
    "mc_mtx_prob_5_reshaped = mc_mtx_prob_5.reshape(mc_mtx_prob_5.shape[0], -1)\n",
    "mc_mtx_prob_5_compressed = scipy.sparse.csc_matrix(np.array(mc_mtx_prob_5_reshaped))\n",
    "scipy.sparse.save_npz('../data/mc_mtx_5.npz', mc_mtx_prob_5_compressed)\n",
    "\n",
    "mc_mtx_prob_10_reshaped = mc_mtx_prob_10.reshape(mc_mtx_prob_10.shape[0], -1) \n",
    "mc_mtx_prob_10_compressed = scipy.sparse.csc_matrix(np.array(mc_mtx_prob_10_reshaped))\n",
    "scipy.sparse.save_npz('../data/mc_mtx_10.npz', mc_mtx_prob_10_compressed)\n",
    "\n",
    "mc_mtx_prob_15_reshaped = mc_mtx_prob_15.reshape(mc_mtx_prob_15.shape[0], -1)\n",
    "mc_mtx_prob_15_compressed = scipy.sparse.csc_matrix(np.array(mc_mtx_prob_15_reshaped))\n",
    "scipy.sparse.save_npz('../data/mc_mtx_15.npz', mc_mtx_prob_15_compressed)"
   ]
  },
  {
   "cell_type": "markdown",
   "metadata": {},
   "source": [
    "## Try Functions"
   ]
  },
  {
   "cell_type": "code",
   "execution_count": 53,
   "metadata": {},
   "outputs": [],
   "source": [
    "from estimations import Estimator"
   ]
  },
  {
   "cell_type": "code",
   "execution_count": 60,
   "metadata": {},
   "outputs": [],
   "source": [
    "est = Estimator(delta_t=10, dir_path='../data/')"
   ]
  },
  {
   "cell_type": "code",
   "execution_count": 63,
   "metadata": {},
   "outputs": [
    {
     "data": {
      "text/plain": [
       "256"
      ]
     },
     "execution_count": 63,
     "metadata": {},
     "output_type": "execute_result"
    }
   ],
   "source": [
    "est.generate_request(217, 143)"
   ]
  }
 ],
 "metadata": {
  "kernelspec": {
   "display_name": "Python 3",
   "language": "python",
   "name": "python3"
  },
  "language_info": {
   "codemirror_mode": {
    "name": "ipython",
    "version": 3
   },
   "file_extension": ".py",
   "mimetype": "text/x-python",
   "name": "python",
   "nbconvert_exporter": "python",
   "pygments_lexer": "ipython3",
   "version": "3.7.6"
  }
 },
 "nbformat": 4,
 "nbformat_minor": 4
}
