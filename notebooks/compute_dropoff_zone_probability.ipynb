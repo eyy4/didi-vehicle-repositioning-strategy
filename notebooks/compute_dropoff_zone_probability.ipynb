{
 "cells": [
  {
   "cell_type": "code",
   "execution_count": 12,
   "metadata": {},
   "outputs": [],
   "source": [
    "import pandas as pd\n",
    "import numpy as np"
   ]
  },
  {
   "cell_type": "code",
   "execution_count": 4,
   "metadata": {},
   "outputs": [],
   "source": [
    "df = pd.read_csv('../data/fare_amount_scr_dst_t.csv')"
   ]
  },
  {
   "cell_type": "code",
   "execution_count": 5,
   "metadata": {},
   "outputs": [
    {
     "data": {
      "text/html": [
       "<div>\n",
       "<style scoped>\n",
       "    .dataframe tbody tr th:only-of-type {\n",
       "        vertical-align: middle;\n",
       "    }\n",
       "\n",
       "    .dataframe tbody tr th {\n",
       "        vertical-align: top;\n",
       "    }\n",
       "\n",
       "    .dataframe thead th {\n",
       "        text-align: right;\n",
       "    }\n",
       "</style>\n",
       "<table border=\"1\" class=\"dataframe\">\n",
       "  <thead>\n",
       "    <tr style=\"text-align: right;\">\n",
       "      <th></th>\n",
       "      <th>pickup_datetime_index</th>\n",
       "      <th>pickup_datetime_interval</th>\n",
       "      <th>pickup_taxizone_id</th>\n",
       "      <th>dropoff_taxizone_id</th>\n",
       "      <th>mean</th>\n",
       "      <th>median</th>\n",
       "      <th>count</th>\n",
       "    </tr>\n",
       "  </thead>\n",
       "  <tbody>\n",
       "    <tr>\n",
       "      <th>0</th>\n",
       "      <td>0</td>\n",
       "      <td>00:00:00</td>\n",
       "      <td>2.0</td>\n",
       "      <td>2.0</td>\n",
       "      <td>10.500000</td>\n",
       "      <td>10.50</td>\n",
       "      <td>2</td>\n",
       "    </tr>\n",
       "    <tr>\n",
       "      <th>1</th>\n",
       "      <td>0</td>\n",
       "      <td>00:00:00</td>\n",
       "      <td>3.0</td>\n",
       "      <td>69.0</td>\n",
       "      <td>24.500000</td>\n",
       "      <td>24.50</td>\n",
       "      <td>1</td>\n",
       "    </tr>\n",
       "    <tr>\n",
       "      <th>2</th>\n",
       "      <td>0</td>\n",
       "      <td>00:00:00</td>\n",
       "      <td>4.0</td>\n",
       "      <td>4.0</td>\n",
       "      <td>8.475000</td>\n",
       "      <td>4.50</td>\n",
       "      <td>20</td>\n",
       "    </tr>\n",
       "    <tr>\n",
       "      <th>3</th>\n",
       "      <td>0</td>\n",
       "      <td>00:00:00</td>\n",
       "      <td>4.0</td>\n",
       "      <td>7.0</td>\n",
       "      <td>22.000000</td>\n",
       "      <td>20.75</td>\n",
       "      <td>6</td>\n",
       "    </tr>\n",
       "    <tr>\n",
       "      <th>4</th>\n",
       "      <td>0</td>\n",
       "      <td>00:00:00</td>\n",
       "      <td>4.0</td>\n",
       "      <td>13.0</td>\n",
       "      <td>13.625000</td>\n",
       "      <td>13.50</td>\n",
       "      <td>8</td>\n",
       "    </tr>\n",
       "    <tr>\n",
       "      <th>...</th>\n",
       "      <td>...</td>\n",
       "      <td>...</td>\n",
       "      <td>...</td>\n",
       "      <td>...</td>\n",
       "      <td>...</td>\n",
       "      <td>...</td>\n",
       "      <td>...</td>\n",
       "    </tr>\n",
       "    <tr>\n",
       "      <th>755359</th>\n",
       "      <td>95</td>\n",
       "      <td>23:45:00</td>\n",
       "      <td>263.0</td>\n",
       "      <td>259.0</td>\n",
       "      <td>31.000000</td>\n",
       "      <td>31.00</td>\n",
       "      <td>1</td>\n",
       "    </tr>\n",
       "    <tr>\n",
       "      <th>755360</th>\n",
       "      <td>95</td>\n",
       "      <td>23:45:00</td>\n",
       "      <td>263.0</td>\n",
       "      <td>260.0</td>\n",
       "      <td>17.840909</td>\n",
       "      <td>17.50</td>\n",
       "      <td>22</td>\n",
       "    </tr>\n",
       "    <tr>\n",
       "      <th>755361</th>\n",
       "      <td>95</td>\n",
       "      <td>23:45:00</td>\n",
       "      <td>263.0</td>\n",
       "      <td>261.0</td>\n",
       "      <td>26.300000</td>\n",
       "      <td>25.50</td>\n",
       "      <td>5</td>\n",
       "    </tr>\n",
       "    <tr>\n",
       "      <th>755362</th>\n",
       "      <td>95</td>\n",
       "      <td>23:45:00</td>\n",
       "      <td>263.0</td>\n",
       "      <td>262.0</td>\n",
       "      <td>4.942857</td>\n",
       "      <td>4.50</td>\n",
       "      <td>70</td>\n",
       "    </tr>\n",
       "    <tr>\n",
       "      <th>755363</th>\n",
       "      <td>95</td>\n",
       "      <td>23:45:00</td>\n",
       "      <td>263.0</td>\n",
       "      <td>263.0</td>\n",
       "      <td>4.972826</td>\n",
       "      <td>4.50</td>\n",
       "      <td>92</td>\n",
       "    </tr>\n",
       "  </tbody>\n",
       "</table>\n",
       "<p>755364 rows × 7 columns</p>\n",
       "</div>"
      ],
      "text/plain": [
       "        pickup_datetime_index pickup_datetime_interval  pickup_taxizone_id  \\\n",
       "0                           0                 00:00:00                 2.0   \n",
       "1                           0                 00:00:00                 3.0   \n",
       "2                           0                 00:00:00                 4.0   \n",
       "3                           0                 00:00:00                 4.0   \n",
       "4                           0                 00:00:00                 4.0   \n",
       "...                       ...                      ...                 ...   \n",
       "755359                     95                 23:45:00               263.0   \n",
       "755360                     95                 23:45:00               263.0   \n",
       "755361                     95                 23:45:00               263.0   \n",
       "755362                     95                 23:45:00               263.0   \n",
       "755363                     95                 23:45:00               263.0   \n",
       "\n",
       "        dropoff_taxizone_id       mean  median  count  \n",
       "0                       2.0  10.500000   10.50      2  \n",
       "1                      69.0  24.500000   24.50      1  \n",
       "2                       4.0   8.475000    4.50     20  \n",
       "3                       7.0  22.000000   20.75      6  \n",
       "4                      13.0  13.625000   13.50      8  \n",
       "...                     ...        ...     ...    ...  \n",
       "755359                259.0  31.000000   31.00      1  \n",
       "755360                260.0  17.840909   17.50     22  \n",
       "755361                261.0  26.300000   25.50      5  \n",
       "755362                262.0   4.942857    4.50     70  \n",
       "755363                263.0   4.972826    4.50     92  \n",
       "\n",
       "[755364 rows x 7 columns]"
      ]
     },
     "execution_count": 5,
     "metadata": {},
     "output_type": "execute_result"
    }
   ],
   "source": [
    "df"
   ]
  },
  {
   "cell_type": "code",
   "execution_count": 133,
   "metadata": {},
   "outputs": [],
   "source": [
    "# time*pickup*dropoff 96*263*263\n",
    "mc_mtx = np.zeros((max(df['pickup_datetime_index'])+1, 263, 263))\n",
    "for i in range(len(df)):\n",
    "    t = df['pickup_datetime_index'][i]\n",
    "    pickup = int(df['pickup_taxizone_id'][i]) -1\n",
    "    dropoff = int(df['dropoff_taxizone_id'][i]) -1\n",
    "    mc_mtx[t, pickup, dropoff] = df['count'][i]   "
   ]
  },
  {
   "cell_type": "code",
   "execution_count": 154,
   "metadata": {},
   "outputs": [
    {
     "name": "stderr",
     "output_type": "stream",
     "text": [
      "C:\\Users\\stell\\Anaconda3\\lib\\site-packages\\ipykernel_launcher.py:3: RuntimeWarning: invalid value encountered in true_divide\n",
      "  This is separate from the ipykernel package so we can avoid doing imports until\n"
     ]
    }
   ],
   "source": [
    "mc_mtx_prob = np.zeros((max(df['pickup_datetime_index'])+1, 263, 263))\n",
    "for i in range(mc_mtx.shape[0]):\n",
    "    mc_mtx_prob[i] = mc_mtx[i]/np.sum(mc_mtx[i], axis = 1).reshape(263, 1)\n",
    "mc_mtx_prob = np.nan_to_num(mc_mtx_prob)"
   ]
  },
  {
   "cell_type": "code",
   "execution_count": 135,
   "metadata": {},
   "outputs": [
    {
     "data": {
      "text/html": [
       "<div>\n",
       "<style scoped>\n",
       "    .dataframe tbody tr th:only-of-type {\n",
       "        vertical-align: middle;\n",
       "    }\n",
       "\n",
       "    .dataframe tbody tr th {\n",
       "        vertical-align: top;\n",
       "    }\n",
       "\n",
       "    .dataframe thead th {\n",
       "        text-align: right;\n",
       "    }\n",
       "</style>\n",
       "<table border=\"1\" class=\"dataframe\">\n",
       "  <thead>\n",
       "    <tr style=\"text-align: right;\">\n",
       "      <th></th>\n",
       "      <th>pickup_datetime_index</th>\n",
       "      <th>pickup_datetime_interval</th>\n",
       "      <th>pickup_taxizone_id</th>\n",
       "      <th>dropoff_taxizone_id</th>\n",
       "      <th>mean</th>\n",
       "      <th>median</th>\n",
       "      <th>count</th>\n",
       "    </tr>\n",
       "  </thead>\n",
       "  <tbody>\n",
       "    <tr>\n",
       "      <th>266288</th>\n",
       "      <td>33</td>\n",
       "      <td>08:15:00</td>\n",
       "      <td>217.0</td>\n",
       "      <td>61.0</td>\n",
       "      <td>9.0</td>\n",
       "      <td>9.0</td>\n",
       "      <td>1</td>\n",
       "    </tr>\n",
       "    <tr>\n",
       "      <th>266289</th>\n",
       "      <td>33</td>\n",
       "      <td>08:15:00</td>\n",
       "      <td>217.0</td>\n",
       "      <td>80.0</td>\n",
       "      <td>4.0</td>\n",
       "      <td>4.0</td>\n",
       "      <td>1</td>\n",
       "    </tr>\n",
       "    <tr>\n",
       "      <th>266290</th>\n",
       "      <td>33</td>\n",
       "      <td>08:15:00</td>\n",
       "      <td>217.0</td>\n",
       "      <td>97.0</td>\n",
       "      <td>11.0</td>\n",
       "      <td>11.0</td>\n",
       "      <td>1</td>\n",
       "    </tr>\n",
       "    <tr>\n",
       "      <th>266291</th>\n",
       "      <td>33</td>\n",
       "      <td>08:15:00</td>\n",
       "      <td>217.0</td>\n",
       "      <td>107.0</td>\n",
       "      <td>13.0</td>\n",
       "      <td>13.0</td>\n",
       "      <td>1</td>\n",
       "    </tr>\n",
       "  </tbody>\n",
       "</table>\n",
       "</div>"
      ],
      "text/plain": [
       "        pickup_datetime_index pickup_datetime_interval  pickup_taxizone_id  \\\n",
       "266288                     33                 08:15:00               217.0   \n",
       "266289                     33                 08:15:00               217.0   \n",
       "266290                     33                 08:15:00               217.0   \n",
       "266291                     33                 08:15:00               217.0   \n",
       "\n",
       "        dropoff_taxizone_id  mean  median  count  \n",
       "266288                 61.0   9.0     9.0      1  \n",
       "266289                 80.0   4.0     4.0      1  \n",
       "266290                 97.0  11.0    11.0      1  \n",
       "266291                107.0  13.0    13.0      1  "
      ]
     },
     "execution_count": 135,
     "metadata": {},
     "output_type": "execute_result"
    }
   ],
   "source": [
    "#check\n",
    "df.loc[((df['pickup_taxizone_id'] == 217) & (df['pickup_datetime_index'] ==33)),:]"
   ]
  },
  {
   "cell_type": "code",
   "execution_count": 155,
   "metadata": {},
   "outputs": [
    {
     "data": {
      "text/plain": [
       "array([0.  , 0.  , 0.  , 0.  , 0.  , 0.  , 0.  , 0.  , 0.  , 0.  , 0.  ,\n",
       "       0.  , 0.  , 0.  , 0.  , 0.  , 0.  , 0.  , 0.  , 0.  , 0.  , 0.  ,\n",
       "       0.  , 0.  , 0.  , 0.  , 0.  , 0.  , 0.  , 0.  , 0.  , 0.  , 0.  ,\n",
       "       0.  , 0.  , 0.  , 0.  , 0.  , 0.  , 0.  , 0.  , 0.  , 0.  , 0.  ,\n",
       "       0.  , 0.  , 0.  , 0.  , 0.  , 0.  , 0.  , 0.  , 0.  , 0.  , 0.  ,\n",
       "       0.  , 0.  , 0.  , 0.  , 0.  , 0.25, 0.  , 0.  , 0.  , 0.  , 0.  ,\n",
       "       0.  , 0.  , 0.  , 0.  , 0.  , 0.  , 0.  , 0.  , 0.  , 0.  , 0.  ,\n",
       "       0.  , 0.  , 0.25, 0.  , 0.  , 0.  , 0.  , 0.  , 0.  , 0.  , 0.  ,\n",
       "       0.  , 0.  , 0.  , 0.  , 0.  , 0.  , 0.  , 0.  , 0.25, 0.  , 0.  ,\n",
       "       0.  , 0.  , 0.  , 0.  , 0.  , 0.  , 0.  , 0.25, 0.  , 0.  , 0.  ,\n",
       "       0.  , 0.  , 0.  , 0.  , 0.  , 0.  , 0.  , 0.  , 0.  , 0.  , 0.  ,\n",
       "       0.  , 0.  , 0.  , 0.  , 0.  , 0.  , 0.  , 0.  , 0.  , 0.  , 0.  ,\n",
       "       0.  , 0.  , 0.  , 0.  , 0.  , 0.  , 0.  , 0.  , 0.  , 0.  , 0.  ,\n",
       "       0.  , 0.  , 0.  , 0.  , 0.  , 0.  , 0.  , 0.  , 0.  , 0.  , 0.  ,\n",
       "       0.  , 0.  , 0.  , 0.  , 0.  , 0.  , 0.  , 0.  , 0.  , 0.  , 0.  ,\n",
       "       0.  , 0.  , 0.  , 0.  , 0.  , 0.  , 0.  , 0.  , 0.  , 0.  , 0.  ,\n",
       "       0.  , 0.  , 0.  , 0.  , 0.  , 0.  , 0.  , 0.  , 0.  , 0.  , 0.  ,\n",
       "       0.  , 0.  , 0.  , 0.  , 0.  , 0.  , 0.  , 0.  , 0.  , 0.  , 0.  ,\n",
       "       0.  , 0.  , 0.  , 0.  , 0.  , 0.  , 0.  , 0.  , 0.  , 0.  , 0.  ,\n",
       "       0.  , 0.  , 0.  , 0.  , 0.  , 0.  , 0.  , 0.  , 0.  , 0.  , 0.  ,\n",
       "       0.  , 0.  , 0.  , 0.  , 0.  , 0.  , 0.  , 0.  , 0.  , 0.  , 0.  ,\n",
       "       0.  , 0.  , 0.  , 0.  , 0.  , 0.  , 0.  , 0.  , 0.  , 0.  , 0.  ,\n",
       "       0.  , 0.  , 0.  , 0.  , 0.  , 0.  , 0.  , 0.  , 0.  , 0.  , 0.  ,\n",
       "       0.  , 0.  , 0.  , 0.  , 0.  , 0.  , 0.  , 0.  , 0.  , 0.  ])"
      ]
     },
     "execution_count": 155,
     "metadata": {},
     "output_type": "execute_result"
    }
   ],
   "source": [
    "mc_mtx_prob[33,216,:]"
   ]
  },
  {
   "cell_type": "code",
   "execution_count": 137,
   "metadata": {},
   "outputs": [
    {
     "name": "stdout",
     "output_type": "stream",
     "text": [
      "107\n"
     ]
    }
   ],
   "source": [
    "from random import choices\n",
    "population = np.arange(1, 264)\n",
    "weights = mc_mtx[33,216,:]\n",
    "num = choices(population, weights)\n",
    "print(num[0])"
   ]
  },
  {
   "cell_type": "code",
   "execution_count": null,
   "metadata": {},
   "outputs": [],
   "source": [
    "# saving reshaped array to file. \n",
    "mc_mtx_prob_reshaped = mc_mtx_prob.reshape(mc_mtx_prob.shape[0], -1) \n",
    "np.savetxt(\"../data/mc_mtx.txt\", mc_mtx_prob_reshaped)"
   ]
  }
 ],
 "metadata": {
  "kernelspec": {
   "display_name": "Python 3",
   "language": "python",
   "name": "python3"
  },
  "language_info": {
   "codemirror_mode": {
    "name": "ipython",
    "version": 3
   },
   "file_extension": ".py",
   "mimetype": "text/x-python",
   "name": "python",
   "nbconvert_exporter": "python",
   "pygments_lexer": "ipython3",
   "version": "3.7.6"
  }
 },
 "nbformat": 4,
 "nbformat_minor": 4
}
