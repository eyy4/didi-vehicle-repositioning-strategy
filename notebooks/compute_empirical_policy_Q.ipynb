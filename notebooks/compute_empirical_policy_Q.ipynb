{
 "cells": [
  {
   "cell_type": "code",
   "execution_count": 5,
   "metadata": {},
   "outputs": [],
   "source": [
    "import pickle\n",
    "from utils import plot_optimal_q\n",
    "import numpy as np"
   ]
  },
  {
   "cell_type": "code",
   "execution_count": 11,
   "metadata": {},
   "outputs": [],
   "source": [
    "df_list = []\n",
    "for i in range(1, 15):\n",
    "    with open(r\"data/shB_v3/sarsa_{}.pickle\".format(i), \"rb\") as output_file:\n",
    "        df_list.append(pickle.load(output_file))"
   ]
  },
  {
   "cell_type": "code",
   "execution_count": null,
   "metadata": {},
   "outputs": [],
   "source": [
    "sample = pd.concat(df_list, axis=0)"
   ]
  },
  {
   "cell_type": "code",
   "execution_count": 29,
   "metadata": {
    "collapsed": true
   },
   "outputs": [
    {
     "data": {
      "text/html": [
       "<div>\n",
       "<style scoped>\n",
       "    .dataframe tbody tr th:only-of-type {\n",
       "        vertical-align: middle;\n",
       "    }\n",
       "\n",
       "    .dataframe tbody tr th {\n",
       "        vertical-align: top;\n",
       "    }\n",
       "\n",
       "    .dataframe thead th {\n",
       "        text-align: right;\n",
       "    }\n",
       "</style>\n",
       "<table border=\"1\" class=\"dataframe\">\n",
       "  <thead>\n",
       "    <tr style=\"text-align: right;\">\n",
       "      <th></th>\n",
       "      <th>state</th>\n",
       "      <th>freq</th>\n",
       "      <th>action</th>\n",
       "    </tr>\n",
       "  </thead>\n",
       "  <tbody>\n",
       "    <tr>\n",
       "      <th>0</th>\n",
       "      <td>(4, 0)</td>\n",
       "      <td>1.00</td>\n",
       "      <td>79</td>\n",
       "    </tr>\n",
       "    <tr>\n",
       "      <th>1</th>\n",
       "      <td>(7, 0)</td>\n",
       "      <td>0.25</td>\n",
       "      <td>7</td>\n",
       "    </tr>\n",
       "    <tr>\n",
       "      <th>2</th>\n",
       "      <td>(7, 0)</td>\n",
       "      <td>0.50</td>\n",
       "      <td>193</td>\n",
       "    </tr>\n",
       "    <tr>\n",
       "      <th>3</th>\n",
       "      <td>(7, 0)</td>\n",
       "      <td>0.25</td>\n",
       "      <td>223</td>\n",
       "    </tr>\n",
       "    <tr>\n",
       "      <th>4</th>\n",
       "      <td>(17, 0)</td>\n",
       "      <td>1.00</td>\n",
       "      <td>217</td>\n",
       "    </tr>\n",
       "    <tr>\n",
       "      <th>...</th>\n",
       "      <td>...</td>\n",
       "      <td>...</td>\n",
       "      <td>...</td>\n",
       "    </tr>\n",
       "    <tr>\n",
       "      <th>8746</th>\n",
       "      <td>(261, 95)</td>\n",
       "      <td>1.00</td>\n",
       "      <td>261</td>\n",
       "    </tr>\n",
       "    <tr>\n",
       "      <th>8747</th>\n",
       "      <td>(262, 95)</td>\n",
       "      <td>1.00</td>\n",
       "      <td>262</td>\n",
       "    </tr>\n",
       "    <tr>\n",
       "      <th>8748</th>\n",
       "      <td>(263, 95)</td>\n",
       "      <td>0.25</td>\n",
       "      <td>75</td>\n",
       "    </tr>\n",
       "    <tr>\n",
       "      <th>8749</th>\n",
       "      <td>(263, 95)</td>\n",
       "      <td>0.25</td>\n",
       "      <td>236</td>\n",
       "    </tr>\n",
       "    <tr>\n",
       "      <th>8750</th>\n",
       "      <td>(263, 95)</td>\n",
       "      <td>0.50</td>\n",
       "      <td>263</td>\n",
       "    </tr>\n",
       "  </tbody>\n",
       "</table>\n",
       "<p>8751 rows × 3 columns</p>\n",
       "</div>"
      ],
      "text/plain": [
       "          state  freq  action\n",
       "0        (4, 0)  1.00      79\n",
       "1        (7, 0)  0.25       7\n",
       "2        (7, 0)  0.50     193\n",
       "3        (7, 0)  0.25     223\n",
       "4       (17, 0)  1.00     217\n",
       "...         ...   ...     ...\n",
       "8746  (261, 95)  1.00     261\n",
       "8747  (262, 95)  1.00     262\n",
       "8748  (263, 95)  0.25      75\n",
       "8749  (263, 95)  0.25     236\n",
       "8750  (263, 95)  0.50     263\n",
       "\n",
       "[8751 rows x 3 columns]"
      ]
     },
     "execution_count": 29,
     "metadata": {},
     "output_type": "execute_result"
    }
   ],
   "source": [
    "action_counts = sample.groupby(['current_time', 'current_zone', 'action'], as_index=False)['episode'].agg('count')\n",
    "total_counts = sample.groupby(['current_time', 'current_zone'], as_index=False)['episode'].agg('count')\n",
    "freq = action_counts.merge(total_counts, on=['current_time', 'current_zone'])\n",
    "freq['freq'] = freq['episode_x']/freq['episode_y']\n",
    "freq['state'] = [(z,t) for z,t in zip(freq['current_zone'],freq['current_time'])]"
   ]
  },
  {
   "cell_type": "code",
   "execution_count": 63,
   "metadata": {},
   "outputs": [],
   "source": [
    "ZONE_NUM = 264\n",
    "TIME_NUM = 96\n",
    "empty_q = np.array([0.0]*ZONE_NUM)\n",
    "for t in range(TIME_NUM):\n",
    "    for z in range(ZONE_NUM):\n",
    "        emp_policy_q[(z,t)] = empty_q.copy()\n",
    "for s,a,f in zip(freq['state'], freq['action'], freq['freq']):       \n",
    "    emp_policy_q[s][a] = f     "
   ]
  },
  {
   "cell_type": "code",
   "execution_count": null,
   "metadata": {},
   "outputs": [],
   "source": [
    "with open('output/emp_policy_Q_shA.pickle', 'wb') as handle:\n",
    "    pickle.dump(emp_policy_q, handle, protocol=pickle.HIGHEST_PROTOCOL)"
   ]
  }
 ],
 "metadata": {
  "kernelspec": {
   "display_name": "Python 3",
   "language": "python",
   "name": "python3"
  },
  "language_info": {
   "codemirror_mode": {
    "name": "ipython",
    "version": 3
   },
   "file_extension": ".py",
   "mimetype": "text/x-python",
   "name": "python",
   "nbconvert_exporter": "python",
   "pygments_lexer": "ipython3",
   "version": "3.7.3"
  }
 },
 "nbformat": 4,
 "nbformat_minor": 2
}
