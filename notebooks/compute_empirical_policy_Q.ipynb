{
 "cells": [
  {
   "cell_type": "code",
   "execution_count": 1,
   "metadata": {},
   "outputs": [],
   "source": [
    "import pickle\n",
    "# from utils import plot_optimal_q\n",
    "import numpy as np\n",
    "import pandas as pd\n"
   ]
  },
  {
   "cell_type": "code",
   "execution_count": 2,
   "metadata": {},
   "outputs": [],
   "source": [
    "df_list = []\n",
    "for i in range(1, 15):\n",
    "    with open(r\"../data/shA_v4/sarsa_{}.pickle\".format(i), \"rb\") as output_file:\n",
    "        df_list.append(pickle.load(output_file))"
   ]
  },
  {
   "cell_type": "code",
   "execution_count": 3,
   "metadata": {},
   "outputs": [],
   "source": [
    "sample = pd.concat(df_list, axis=0)"
   ]
  },
  {
   "cell_type": "code",
   "execution_count": 4,
   "metadata": {},
   "outputs": [],
   "source": [
    "sample['current_zone'] = [i[0] for i in sample['state']]\n",
    "sample['current_time'] = [i[1] for i in sample['state']]"
   ]
  },
  {
   "cell_type": "code",
   "execution_count": 5,
   "metadata": {},
   "outputs": [],
   "source": [
    "action_counts = sample.groupby(['current_time', 'current_zone', 'action'], as_index=False)['episode'].agg('count')\n",
    "total_counts = sample.groupby(['current_time', 'current_zone'], as_index=False)['episode'].agg('count')\n",
    "freq = action_counts.merge(total_counts, on=['current_time', 'current_zone'])\n",
    "freq['freq'] = freq['episode_x']/freq['episode_y']\n",
    "freq['state'] = [(z,t) for z,t in zip(freq['current_zone'],freq['current_time'])]"
   ]
  },
  {
   "cell_type": "code",
   "execution_count": 6,
   "metadata": {},
   "outputs": [],
   "source": [
    "ZONE_NUM = 264\n",
    "TIME_NUM = 96\n",
    "empty_q = np.array([0.0]*ZONE_NUM)\n",
    "emp_policy_q = {}\n",
    "for t in range(TIME_NUM):\n",
    "    for z in range(ZONE_NUM):\n",
    "        emp_policy_q[(z,t)] = empty_q.copy()\n",
    "for s,a,f in zip(freq['state'], freq['action'], freq['freq']):       \n",
    "    emp_policy_q[s][a] = f     "
   ]
  },
  {
   "cell_type": "code",
   "execution_count": 7,
   "metadata": {},
   "outputs": [],
   "source": [
    "with open('../output/emp_policy_Q_shA.pickle', 'wb') as handle:\n",
    "    pickle.dump(emp_policy_q, handle, protocol=pickle.HIGHEST_PROTOCOL)"
   ]
  },
  {
   "cell_type": "code",
   "execution_count": null,
   "metadata": {},
   "outputs": [],
   "source": []
  }
 ],
 "metadata": {
  "kernelspec": {
   "display_name": "Python 3",
   "language": "python",
   "name": "python3"
  },
  "language_info": {
   "codemirror_mode": {
    "name": "ipython",
    "version": 3
   },
   "file_extension": ".py",
   "mimetype": "text/x-python",
   "name": "python",
   "nbconvert_exporter": "python",
   "pygments_lexer": "ipython3",
   "version": "3.7.7"
  }
 },
 "nbformat": 4,
 "nbformat_minor": 4
}
