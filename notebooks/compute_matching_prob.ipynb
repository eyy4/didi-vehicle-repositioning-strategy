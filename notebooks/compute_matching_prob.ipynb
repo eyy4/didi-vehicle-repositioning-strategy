{
 "cells": [
  {
   "cell_type": "code",
   "execution_count": 20,
   "metadata": {},
   "outputs": [],
   "source": [
    "import pandas as pd\n",
    "import numpy as np"
   ]
  },
  {
   "cell_type": "code",
   "execution_count": 21,
   "metadata": {},
   "outputs": [],
   "source": [
    "df_1 = pd.read_csv('../data/fare_amount_src_dst_t_1.csv')\n",
    "df_5 = pd.read_csv('../data/fare_amount_src_dst_t_5.csv')\n",
    "df_10 = pd.read_csv('../data/fare_amount_src_dst_t_10.csv')\n",
    "df_15 = pd.read_csv('../data/fare_amount_src_dst_t_15.csv')"
   ]
  },
  {
   "cell_type": "code",
   "execution_count": 22,
   "metadata": {},
   "outputs": [],
   "source": [
    "#df_10.head()"
   ]
  },
  {
   "cell_type": "code",
   "execution_count": 23,
   "metadata": {},
   "outputs": [],
   "source": [
    "def matching_prob(df):   \n",
    "    t_num = int(max(df['pickup_datetime_index']))+1\n",
    "    zone_num = 263\n",
    "    matching_prob = np.zeros((t_num, zone_num))\n",
    "    for i in range(t_num):\n",
    "        for j in range(zone_num):\n",
    "            if len(df[((df['pickup_datetime_index'] == i) & (df['dropoff_taxizone_id'] == j+1))]) != 0:\n",
    "                matching_prob[i,j] = len(df[((df['pickup_datetime_index'] == i) & (df['pickup_taxizone_id'] == j+1))])/len(df[((df['pickup_datetime_index'] == i) & (df['dropoff_taxizone_id'] == j+1))])\n",
    "            else:\n",
    "                matching_prob[i,j] = 1\n",
    "    return matching_prob"
   ]
  },
  {
   "cell_type": "code",
   "execution_count": 24,
   "metadata": {},
   "outputs": [],
   "source": [
    "mtx_1 = matching_prob(df_1)\n",
    "mtx_5 = matching_prob(df_5)\n",
    "mtx_10 = matching_prob(df_10)\n",
    "mtx_15 = matching_prob(df_15)"
   ]
  },
  {
   "cell_type": "code",
   "execution_count": 25,
   "metadata": {},
   "outputs": [],
   "source": [
    "np.savetxt('../data/matching_prob_1.csv', mtx_1, delimiter=',')\n",
    "np.savetxt('../data/matching_prob_5.csv', mtx_5, delimiter=',')\n",
    "np.savetxt('../data/matching_prob_10.csv', mtx_10, delimiter=',')\n",
    "np.savetxt('../data/matching_prob_15.csv', mtx_15, delimiter=',')"
   ]
  },
  {
   "cell_type": "markdown",
   "metadata": {},
   "source": [
    "## Try Function"
   ]
  },
  {
   "cell_type": "code",
   "execution_count": 27,
   "metadata": {},
   "outputs": [],
   "source": [
    "from estimations import Estimator"
   ]
  },
  {
   "cell_type": "code",
   "execution_count": 28,
   "metadata": {},
   "outputs": [],
   "source": [
    "est_1 = Estimator(delta_t=1, dir_path='../data/data_drive/')\n",
    "est_5 = Estimator(delta_t=5, dir_path='../data/data_drive/')\n",
    "est_10 = Estimator(delta_t=10, dir_path='../data/data_drive/')\n",
    "est_15 = Estimator(delta_t=15, dir_path='../data/data_drive/')"
   ]
  },
  {
   "cell_type": "code",
   "execution_count": 29,
   "metadata": {},
   "outputs": [],
   "source": [
    "a = est_1.matching_prob(33, 226)\n",
    "b = est_5.matching_prob(33, 226)\n",
    "c = est_10.matching_prob(33, 226)\n",
    "d = est_15.matching_prob(33, 226)\n",
    "e = est_1.matching_prob(1439, 263)\n",
    "f = est_5.matching_prob(187, 263)\n",
    "g = est_10.matching_prob(143, 263)\n",
    "h = est_15.matching_prob(95, 263)"
   ]
  },
  {
   "cell_type": "code",
   "execution_count": 39,
   "metadata": {},
   "outputs": [],
   "source": [
    "# print(a == len(df_1[((df_1['pickup_datetime_index'] == 33) & (df_1['pickup_taxizone_id'] == 226))])/len(df_1[((df_1['pickup_datetime_index'] == 33) & (df_1['dropoff_taxizone_id'] == 226))]))\n",
    "# print(b == len(df_5[((df_5['pickup_datetime_index'] == 33) & (df_5['pickup_taxizone_id'] == 226))])/len(df_5[((df_5['pickup_datetime_index'] == 33) & (df_5['dropoff_taxizone_id'] == 226))]))\n",
    "# print(c == len(df_10[((df_10['pickup_datetime_index'] == 33) & (df_10['pickup_taxizone_id'] == 226))])/len(df_10[((df_10['pickup_datetime_index'] == 33) & (df_10['dropoff_taxizone_id'] == 226))]))\n",
    "# print(d == len(df_15[((df_15['pickup_datetime_index'] == 33) & (df_15['pickup_taxizone_id'] == 226))])/len(df_15[((df_15['pickup_datetime_index'] == 33) & (df_15['dropoff_taxizone_id'] == 226))]))\n",
    "# print(e == len(df_1[((df_1['pickup_datetime_index'] == 1439) & (df_1['pickup_taxizone_id'] == 263))])/len(df_1[((df_1['pickup_datetime_index'] == 1439) & (df_1['dropoff_taxizone_id'] == 263))]))\n",
    "# print(f == len(df_5[((df_5['pickup_datetime_index'] == 187) & (df_5['pickup_taxizone_id'] == 263))])/len(df_5[((df_5['pickup_datetime_index'] == 187) & (df_5['dropoff_taxizone_id'] == 263))]))\n",
    "# print(g == len(df_10[((df_10['pickup_datetime_index'] == 143) & (df_10['pickup_taxizone_id'] == 263))])/len(df_10[((df_10['pickup_datetime_index'] == 143) & (df_10['dropoff_taxizone_id'] == 263))]))\n",
    "# print(h == len(df_15[((df_15['pickup_datetime_index'] == 95) & (df_15['pickup_taxizone_id'] == 263))])/len(df_15[((df_15['pickup_datetime_index'] == 95) & (df_15['dropoff_taxizone_id'] == 263))]))"
   ]
  }
 ],
 "metadata": {
  "kernelspec": {
   "display_name": "Python 3",
   "language": "python",
   "name": "python3"
  },
  "language_info": {
   "codemirror_mode": {
    "name": "ipython",
    "version": 3
   },
   "file_extension": ".py",
   "mimetype": "text/x-python",
   "name": "python",
   "nbconvert_exporter": "python",
   "pygments_lexer": "ipython3",
   "version": "3.7.6"
  }
 },
 "nbformat": 4,
 "nbformat_minor": 4
}
