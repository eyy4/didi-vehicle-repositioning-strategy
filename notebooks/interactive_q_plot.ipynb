{
 "cells": [
  {
   "cell_type": "markdown",
   "metadata": {},
   "source": [
    "# Function\n"
   ]
  },
  {
   "cell_type": "code",
   "execution_count": 19,
   "metadata": {},
   "outputs": [],
   "source": [
    "import pandas as pd\n",
    "import matplotlib.pyplot as plt\n",
    "import numpy as np\n",
    "import fiona\n",
    "import shapely\n",
    "from shapely.geometry import shape,mapping, Point, Polygon, MultiPolygon\n",
    "import networkx as nx\n",
    "import pickle\n",
    "import matplotlib.ticker as mticker\n",
    "from ipywidgets import interact, widgets"
   ]
  },
  {
   "cell_type": "code",
   "execution_count": null,
   "metadata": {},
   "outputs": [],
   "source": []
  },
  {
   "cell_type": "code",
   "execution_count": 23,
   "metadata": {},
   "outputs": [],
   "source": [
    "\n",
    "def plot_optimal_q(q_path='../data/emp_Q_shA.pkl', shp_file='../data/taxi_zones/taxi_zones.shp', t=32, all_nodes=False, manhattan=False):\n",
    "    q = open(q_path, 'rb')\n",
    "    data = pickle.load(q)\n",
    "    man = [ 4,  12,  13,  24,  41,  42,  43,  45,  48,  50,  68,  74,  75, \n",
    "           79,  87,  88,  90, 100, 103, 104, 105, 107, 113, 114, 116, 120,\n",
    "           125, 127, 128, 137, 140, 141, 142, 143, 144, 148, 151, 152, 153,\n",
    "           158, 161, 162, 163, 164, 166, 170, 186, 194, 202, 209, 211, 224,\n",
    "           229, 230, 231, 232, 233, 234, 236, 237, 238, 239, 243, 244, 246,\n",
    "           249, 261, 262, 263]\n",
    "    edge = [] # action to another zone\n",
    "    wait = [] # wait in the same zone\n",
    "    self = [] # action within the same zone\n",
    "    a = np.zeros((264,))\n",
    "    v = []\n",
    "    nodes = []\n",
    "    \n",
    "    for i in data:\n",
    "        if i[1]==t:\n",
    "            now = data[i]\n",
    "            # if there is optimal action\n",
    "            if ((sum(np.equal(now,a))!=264)):\n",
    "                start = int(i[0])\n",
    "                end = int(np.argmax(now))\n",
    "                if(manhattan==True):\n",
    "                    if((start in man) & (end in man)):\n",
    "                        v.append([start, np.amax(now)])\n",
    "                        nodes.append(start)\n",
    "                        nodes.append(end)\n",
    "                        if (end == 0):\n",
    "                            wait.append(start)\n",
    "                        elif (start == end):\n",
    "                            self.append(end)\n",
    "                        else:\n",
    "                            edge.append((start, end))\n",
    "                else:\n",
    "                    v.append([start, np.amax(now)])\n",
    "                    nodes.append(start)\n",
    "                    nodes.append(end)\n",
    "\n",
    "                    if (end == 0):\n",
    "                        wait.append(start)\n",
    "                    elif (start == end):\n",
    "                        self.append(end)\n",
    "                    else:\n",
    "                        edge.append((start, end))\n",
    "                    \n",
    "    nodes = list(set(nodes))\n",
    "    \n",
    "    G = nx.DiGraph()\n",
    "    taxi_zones = fiona.open(shp_file)\n",
    "    for j in range(len(taxi_zones)):\n",
    "        zone = taxi_zones[j]\n",
    "        i = int(zone['id']) + 1\n",
    "        shape = shapely.geometry.asShape(zone['geometry'])\n",
    "        center = shape.centroid.coords[0]\n",
    "        \n",
    "        #add node\n",
    "        if(all_nodes==True):\n",
    "            if(manhattan==True):\n",
    "                if(i in man):\n",
    "                    G.add_node(i, pos=center)\n",
    "            else:\n",
    "                G.add_node(i, pos=center) \n",
    "        else:\n",
    "            if(i in nodes):\n",
    "                G.add_node(i, pos=center)\n",
    "    \n",
    "    color = ['' for k in range(len(list(G.nodes)))] # red for action, blue for wait\n",
    "    width = np.zeros(len(list(G.nodes)))  # bolder if there is optimal action\n",
    "    \n",
    "    for i in range(len(list(G.nodes))):\n",
    "        n = list(G.nodes)[i]\n",
    "        if (n in wait):\n",
    "            color[i] = 'blue'\n",
    "            width[i] = 3\n",
    "        elif (n in self):\n",
    "            color[i] ='red'\n",
    "            width[i] = 3\n",
    "        else:\n",
    "            color[i] ='black'\n",
    "            width[i] = 1\n",
    "    \n",
    "    # add edge\n",
    "    G.add_edges_from(edge)\n",
    "    p = nx.get_node_attributes(G,'pos')\n",
    "    fig = plt.figure(3,figsize=(27,27)) \n",
    "    nx.draw_networkx_nodes(G, pos=p, node_color='white', node_size=500, edgecolors=color, linewidths=width)\n",
    "    nx.draw_networkx_labels(G, pos=p, font_size=10)\n",
    "    nx.draw_networkx_edges(G, pos = p, width=3, edge_color='red')\n",
    "    ax = plt.gca() # get the current axis\n",
    "    ax.collections[0].set_edgecolor(color) \n",
    "    fig.suptitle('Optimal Action for Taxi Zones', fontsize=30, y=0.9)\n",
    "    #plt.savefig('../optimal_q.png', bbox_inches = 'tight')\n",
    "    plt.show()\n",
    "\n",
    "    return"
   ]
  },
  {
   "cell_type": "code",
   "execution_count": 24,
   "metadata": {},
   "outputs": [],
   "source": [
    "def interactive_plot(q_path='../data/emp_Q_shA.pkl'):\n",
    "    q = open(q_path, 'rb')\n",
    "    data = pickle.load(q)\n",
    "    t_list = []\n",
    "    for i in data:\n",
    "        t_list.append(i[1])\n",
    "    interact(plot_optimal_q, \n",
    "             all_nodes = widgets.RadioButtons(options=[True, False], value=False),\n",
    "             manhattan = widgets.RadioButtons(options=[True, False], value=False),\n",
    "             t = widgets.IntSlider(min=int(min(t_list)),max=int(max(t_list)),step=1,value=0))"
   ]
  },
  {
   "cell_type": "code",
   "execution_count": 25,
   "metadata": {},
   "outputs": [
    {
     "data": {
      "application/vnd.jupyter.widget-view+json": {
       "model_id": "c29084354c1344feb806b589254659ac",
       "version_major": 2,
       "version_minor": 0
      },
      "text/plain": [
       "interactive(children=(Text(value='../data/emp_Q_shA.pkl', description='q_path'), Text(value='../data/taxi_zone…"
      ]
     },
     "metadata": {},
     "output_type": "display_data"
    }
   ],
   "source": [
    "interactive_plot(q_path='../data/emp_Q_shA.pkl')"
   ]
  },
  {
   "cell_type": "code",
   "execution_count": null,
   "metadata": {},
   "outputs": [],
   "source": []
  }
 ],
 "metadata": {
  "kernelspec": {
   "display_name": "Python 3",
   "language": "python",
   "name": "python3"
  },
  "language_info": {
   "codemirror_mode": {
    "name": "ipython",
    "version": 3
   },
   "file_extension": ".py",
   "mimetype": "text/x-python",
   "name": "python",
   "nbconvert_exporter": "python",
   "pygments_lexer": "ipython3",
   "version": "3.7.3"
  }
 },
 "nbformat": 4,
 "nbformat_minor": 2
}
